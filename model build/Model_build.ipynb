{
 "cells": [
  {
   "cell_type": "code",
   "execution_count": 1,
   "metadata": {},
   "outputs": [],
   "source": [
    "import pandas as pd\n",
    "import numpy as np\n",
    "import matplotlib.pyplot as plt\n",
    "import seaborn as sns\n",
    "import warnings\n",
    "import joblib\n",
    "\n",
    "warnings.filterwarnings('ignore')\n",
    "%matplotlib inline"
   ]
  },
  {
   "cell_type": "code",
   "execution_count": 2,
   "metadata": {},
   "outputs": [],
   "source": [
    "from sklearn.linear_model import LinearRegression, Ridge, Lasso, ElasticNet\n",
    "from sklearn.model_selection import train_test_split, GridSearchCV \n",
    "from sklearn.preprocessing import PolynomialFeatures, StandardScaler, MinMaxScaler, RobustScaler\n",
    "from sklearn.metrics import mean_absolute_error, mean_squared_error, r2_score, median_absolute_error\n",
    "from sklearn.neighbors import KNeighborsRegressor\n",
    "from sklearn.tree import DecisionTreeRegressor\n",
    "from sklearn.ensemble import RandomForestRegressor\n"
   ]
  },
  {
   "cell_type": "code",
   "execution_count": 3,
   "metadata": {},
   "outputs": [
    {
     "data": {
      "text/html": [
       "<div>\n",
       "<style scoped>\n",
       "    .dataframe tbody tr th:only-of-type {\n",
       "        vertical-align: middle;\n",
       "    }\n",
       "\n",
       "    .dataframe tbody tr th {\n",
       "        vertical-align: top;\n",
       "    }\n",
       "\n",
       "    .dataframe thead th {\n",
       "        text-align: right;\n",
       "    }\n",
       "</style>\n",
       "<table border=\"1\" class=\"dataframe\">\n",
       "  <thead>\n",
       "    <tr style=\"text-align: right;\">\n",
       "      <th></th>\n",
       "      <th>Domain</th>\n",
       "      <th>Area</th>\n",
       "      <th>Element</th>\n",
       "      <th>Item</th>\n",
       "      <th>Year</th>\n",
       "      <th>Prod_Unit</th>\n",
       "      <th>Production_Value</th>\n",
       "      <th>Price_Unit</th>\n",
       "      <th>Price_Value</th>\n",
       "      <th>Import_Unit</th>\n",
       "      <th>Import_Q</th>\n",
       "      <th>Export_Unit</th>\n",
       "      <th>Export_Q</th>\n",
       "      <th>Temp_Change_Unit</th>\n",
       "      <th>Temp_Change_Value</th>\n",
       "    </tr>\n",
       "  </thead>\n",
       "  <tbody>\n",
       "    <tr>\n",
       "      <th>0</th>\n",
       "      <td>Crops</td>\n",
       "      <td>Brunei Darussalam</td>\n",
       "      <td>Area harvested</td>\n",
       "      <td>Bananas</td>\n",
       "      <td>2000</td>\n",
       "      <td>ha</td>\n",
       "      <td>140.0</td>\n",
       "      <td>USD</td>\n",
       "      <td>823.70</td>\n",
       "      <td>tonnes</td>\n",
       "      <td>50.0</td>\n",
       "      <td>tonnes</td>\n",
       "      <td>0.0</td>\n",
       "      <td>Â°C</td>\n",
       "      <td>0.448</td>\n",
       "    </tr>\n",
       "    <tr>\n",
       "      <th>1</th>\n",
       "      <td>Crops</td>\n",
       "      <td>Brunei Darussalam</td>\n",
       "      <td>Area harvested</td>\n",
       "      <td>Bananas</td>\n",
       "      <td>2000</td>\n",
       "      <td>ha</td>\n",
       "      <td>140.0</td>\n",
       "      <td>PriceIndex</td>\n",
       "      <td>74.43</td>\n",
       "      <td>tonnes</td>\n",
       "      <td>50.0</td>\n",
       "      <td>tonnes</td>\n",
       "      <td>0.0</td>\n",
       "      <td>Â°C</td>\n",
       "      <td>0.448</td>\n",
       "    </tr>\n",
       "    <tr>\n",
       "      <th>2</th>\n",
       "      <td>Crops</td>\n",
       "      <td>Brunei Darussalam</td>\n",
       "      <td>Production</td>\n",
       "      <td>Bananas</td>\n",
       "      <td>2000</td>\n",
       "      <td>tonnes</td>\n",
       "      <td>542.0</td>\n",
       "      <td>USD</td>\n",
       "      <td>823.70</td>\n",
       "      <td>tonnes</td>\n",
       "      <td>50.0</td>\n",
       "      <td>tonnes</td>\n",
       "      <td>0.0</td>\n",
       "      <td>Â°C</td>\n",
       "      <td>0.448</td>\n",
       "    </tr>\n",
       "    <tr>\n",
       "      <th>3</th>\n",
       "      <td>Crops</td>\n",
       "      <td>Brunei Darussalam</td>\n",
       "      <td>Production</td>\n",
       "      <td>Bananas</td>\n",
       "      <td>2000</td>\n",
       "      <td>tonnes</td>\n",
       "      <td>542.0</td>\n",
       "      <td>PriceIndex</td>\n",
       "      <td>74.43</td>\n",
       "      <td>tonnes</td>\n",
       "      <td>50.0</td>\n",
       "      <td>tonnes</td>\n",
       "      <td>0.0</td>\n",
       "      <td>Â°C</td>\n",
       "      <td>0.448</td>\n",
       "    </tr>\n",
       "    <tr>\n",
       "      <th>4</th>\n",
       "      <td>Livestock Primary</td>\n",
       "      <td>Brunei Darussalam</td>\n",
       "      <td>Laying</td>\n",
       "      <td>Eggs, hen, in shell</td>\n",
       "      <td>2000</td>\n",
       "      <td>1000 Head</td>\n",
       "      <td>1200.0</td>\n",
       "      <td>USD</td>\n",
       "      <td>1628.20</td>\n",
       "      <td>tonnes</td>\n",
       "      <td>600.0</td>\n",
       "      <td>tonnes</td>\n",
       "      <td>0.0</td>\n",
       "      <td>Â°C</td>\n",
       "      <td>0.448</td>\n",
       "    </tr>\n",
       "  </tbody>\n",
       "</table>\n",
       "</div>"
      ],
      "text/plain": [
       "              Domain               Area         Element                 Item  \\\n",
       "0              Crops  Brunei Darussalam  Area harvested              Bananas   \n",
       "1              Crops  Brunei Darussalam  Area harvested              Bananas   \n",
       "2              Crops  Brunei Darussalam      Production              Bananas   \n",
       "3              Crops  Brunei Darussalam      Production              Bananas   \n",
       "4  Livestock Primary  Brunei Darussalam          Laying  Eggs, hen, in shell   \n",
       "\n",
       "   Year  Prod_Unit  Production_Value  Price_Unit  Price_Value Import_Unit  \\\n",
       "0  2000         ha             140.0         USD       823.70      tonnes   \n",
       "1  2000         ha             140.0  PriceIndex        74.43      tonnes   \n",
       "2  2000     tonnes             542.0         USD       823.70      tonnes   \n",
       "3  2000     tonnes             542.0  PriceIndex        74.43      tonnes   \n",
       "4  2000  1000 Head            1200.0         USD      1628.20      tonnes   \n",
       "\n",
       "   Import_Q Export_Unit  Export_Q Temp_Change_Unit  Temp_Change_Value  \n",
       "0      50.0      tonnes       0.0              Â°C              0.448  \n",
       "1      50.0      tonnes       0.0              Â°C              0.448  \n",
       "2      50.0      tonnes       0.0              Â°C              0.448  \n",
       "3      50.0      tonnes       0.0              Â°C              0.448  \n",
       "4     600.0      tonnes       0.0              Â°C              0.448  "
      ]
     },
     "execution_count": 3,
     "metadata": {},
     "output_type": "execute_result"
    }
   ],
   "source": [
    "df = pd.read_csv('fix.csv')\n",
    "df.head()"
   ]
  },
  {
   "cell_type": "code",
   "execution_count": 4,
   "metadata": {},
   "outputs": [],
   "source": [
    "# df4 = pd.read_csv('eximp.csv')\n",
    "# df4.head()"
   ]
  },
  {
   "cell_type": "code",
   "execution_count": 5,
   "metadata": {},
   "outputs": [
    {
     "data": {
      "text/html": [
       "<div>\n",
       "<style scoped>\n",
       "    .dataframe tbody tr th:only-of-type {\n",
       "        vertical-align: middle;\n",
       "    }\n",
       "\n",
       "    .dataframe tbody tr th {\n",
       "        vertical-align: top;\n",
       "    }\n",
       "\n",
       "    .dataframe thead th {\n",
       "        text-align: right;\n",
       "    }\n",
       "</style>\n",
       "<table border=\"1\" class=\"dataframe\">\n",
       "  <thead>\n",
       "    <tr style=\"text-align: right;\">\n",
       "      <th></th>\n",
       "      <th>Domain</th>\n",
       "      <th>Area</th>\n",
       "      <th>Element</th>\n",
       "      <th>Item</th>\n",
       "      <th>Year</th>\n",
       "      <th>Prod_Unit</th>\n",
       "      <th>Production_Value</th>\n",
       "      <th>Price_Unit</th>\n",
       "      <th>Price_Value</th>\n",
       "      <th>Import_Unit</th>\n",
       "      <th>Import_Q</th>\n",
       "      <th>Export_Unit</th>\n",
       "      <th>Export_Q</th>\n",
       "      <th>Temp_Change_Unit</th>\n",
       "      <th>Temp_Change_Value</th>\n",
       "    </tr>\n",
       "  </thead>\n",
       "  <tbody>\n",
       "    <tr>\n",
       "      <th>3</th>\n",
       "      <td>Crops</td>\n",
       "      <td>Brunei Darussalam</td>\n",
       "      <td>Production</td>\n",
       "      <td>Bananas</td>\n",
       "      <td>2000</td>\n",
       "      <td>tonnes</td>\n",
       "      <td>542.0</td>\n",
       "      <td>PriceIndex</td>\n",
       "      <td>74.43</td>\n",
       "      <td>tonnes</td>\n",
       "      <td>50.0</td>\n",
       "      <td>tonnes</td>\n",
       "      <td>0.0</td>\n",
       "      <td>Â°C</td>\n",
       "      <td>0.448</td>\n",
       "    </tr>\n",
       "    <tr>\n",
       "      <th>7</th>\n",
       "      <td>Livestock Primary</td>\n",
       "      <td>Brunei Darussalam</td>\n",
       "      <td>Production</td>\n",
       "      <td>Eggs, hen, in shell</td>\n",
       "      <td>2000</td>\n",
       "      <td>tonnes</td>\n",
       "      <td>4800.0</td>\n",
       "      <td>PriceIndex</td>\n",
       "      <td>77.12</td>\n",
       "      <td>tonnes</td>\n",
       "      <td>600.0</td>\n",
       "      <td>tonnes</td>\n",
       "      <td>0.0</td>\n",
       "      <td>Â°C</td>\n",
       "      <td>0.448</td>\n",
       "    </tr>\n",
       "    <tr>\n",
       "      <th>11</th>\n",
       "      <td>Livestock Primary</td>\n",
       "      <td>Brunei Darussalam</td>\n",
       "      <td>Production</td>\n",
       "      <td>Meat, cattle</td>\n",
       "      <td>2000</td>\n",
       "      <td>tonnes</td>\n",
       "      <td>3210.0</td>\n",
       "      <td>PriceIndex</td>\n",
       "      <td>41.24</td>\n",
       "      <td>tonnes</td>\n",
       "      <td>20.0</td>\n",
       "      <td>tonnes</td>\n",
       "      <td>0.0</td>\n",
       "      <td>Â°C</td>\n",
       "      <td>0.448</td>\n",
       "    </tr>\n",
       "    <tr>\n",
       "      <th>15</th>\n",
       "      <td>Livestock Primary</td>\n",
       "      <td>Brunei Darussalam</td>\n",
       "      <td>Production</td>\n",
       "      <td>Meat, chicken</td>\n",
       "      <td>2000</td>\n",
       "      <td>tonnes</td>\n",
       "      <td>11256.0</td>\n",
       "      <td>PriceIndex</td>\n",
       "      <td>95.22</td>\n",
       "      <td>tonnes</td>\n",
       "      <td>920.0</td>\n",
       "      <td>tonnes</td>\n",
       "      <td>17.0</td>\n",
       "      <td>Â°C</td>\n",
       "      <td>0.448</td>\n",
       "    </tr>\n",
       "    <tr>\n",
       "      <th>19</th>\n",
       "      <td>Livestock Primary</td>\n",
       "      <td>Brunei Darussalam</td>\n",
       "      <td>Production</td>\n",
       "      <td>Milk, whole fresh cow</td>\n",
       "      <td>2000</td>\n",
       "      <td>tonnes</td>\n",
       "      <td>95.0</td>\n",
       "      <td>PriceIndex</td>\n",
       "      <td>67.22</td>\n",
       "      <td>tonnes</td>\n",
       "      <td>1100.0</td>\n",
       "      <td>tonnes</td>\n",
       "      <td>0.0</td>\n",
       "      <td>Â°C</td>\n",
       "      <td>0.448</td>\n",
       "    </tr>\n",
       "  </tbody>\n",
       "</table>\n",
       "</div>"
      ],
      "text/plain": [
       "               Domain               Area     Element                   Item  \\\n",
       "3               Crops  Brunei Darussalam  Production                Bananas   \n",
       "7   Livestock Primary  Brunei Darussalam  Production    Eggs, hen, in shell   \n",
       "11  Livestock Primary  Brunei Darussalam  Production           Meat, cattle   \n",
       "15  Livestock Primary  Brunei Darussalam  Production          Meat, chicken   \n",
       "19  Livestock Primary  Brunei Darussalam  Production  Milk, whole fresh cow   \n",
       "\n",
       "    Year Prod_Unit  Production_Value  Price_Unit  Price_Value Import_Unit  \\\n",
       "3   2000    tonnes             542.0  PriceIndex        74.43      tonnes   \n",
       "7   2000    tonnes            4800.0  PriceIndex        77.12      tonnes   \n",
       "11  2000    tonnes            3210.0  PriceIndex        41.24      tonnes   \n",
       "15  2000    tonnes           11256.0  PriceIndex        95.22      tonnes   \n",
       "19  2000    tonnes              95.0  PriceIndex        67.22      tonnes   \n",
       "\n",
       "    Import_Q Export_Unit  Export_Q Temp_Change_Unit  Temp_Change_Value  \n",
       "3       50.0      tonnes       0.0              Â°C              0.448  \n",
       "7      600.0      tonnes       0.0              Â°C              0.448  \n",
       "11      20.0      tonnes       0.0              Â°C              0.448  \n",
       "15     920.0      tonnes      17.0              Â°C              0.448  \n",
       "19    1100.0      tonnes       0.0              Â°C              0.448  "
      ]
     },
     "execution_count": 5,
     "metadata": {},
     "output_type": "execute_result"
    }
   ],
   "source": [
    "df2 = df.loc[(df['Prod_Unit'].isin(['tonnes']) & (df['Price_Unit'] == 'PriceIndex'))]\n",
    "df2.head()"
   ]
  },
  {
   "cell_type": "code",
   "execution_count": 6,
   "metadata": {},
   "outputs": [
    {
     "data": {
      "text/html": [
       "<div>\n",
       "<style scoped>\n",
       "    .dataframe tbody tr th:only-of-type {\n",
       "        vertical-align: middle;\n",
       "    }\n",
       "\n",
       "    .dataframe tbody tr th {\n",
       "        vertical-align: top;\n",
       "    }\n",
       "\n",
       "    .dataframe thead th {\n",
       "        text-align: right;\n",
       "    }\n",
       "</style>\n",
       "<table border=\"1\" class=\"dataframe\">\n",
       "  <thead>\n",
       "    <tr style=\"text-align: right;\">\n",
       "      <th></th>\n",
       "      <th>Domain</th>\n",
       "      <th>Area</th>\n",
       "      <th>Element</th>\n",
       "      <th>Item</th>\n",
       "      <th>Year</th>\n",
       "      <th>Prod_Unit</th>\n",
       "      <th>Production_Value</th>\n",
       "      <th>Price_Index</th>\n",
       "      <th>Import_Unit</th>\n",
       "      <th>Import_Q</th>\n",
       "      <th>Export_Unit</th>\n",
       "      <th>Export_Q</th>\n",
       "      <th>Temp_Change_Unit</th>\n",
       "      <th>Temp_Change_Value</th>\n",
       "    </tr>\n",
       "  </thead>\n",
       "  <tbody>\n",
       "    <tr>\n",
       "      <th>3</th>\n",
       "      <td>Crops</td>\n",
       "      <td>Brunei Darussalam</td>\n",
       "      <td>Production</td>\n",
       "      <td>Bananas</td>\n",
       "      <td>2000</td>\n",
       "      <td>tonnes</td>\n",
       "      <td>542.0</td>\n",
       "      <td>74.43</td>\n",
       "      <td>tonnes</td>\n",
       "      <td>50.0</td>\n",
       "      <td>tonnes</td>\n",
       "      <td>0.0</td>\n",
       "      <td>Â°C</td>\n",
       "      <td>0.448</td>\n",
       "    </tr>\n",
       "    <tr>\n",
       "      <th>7</th>\n",
       "      <td>Livestock Primary</td>\n",
       "      <td>Brunei Darussalam</td>\n",
       "      <td>Production</td>\n",
       "      <td>Eggs, hen, in shell</td>\n",
       "      <td>2000</td>\n",
       "      <td>tonnes</td>\n",
       "      <td>4800.0</td>\n",
       "      <td>77.12</td>\n",
       "      <td>tonnes</td>\n",
       "      <td>600.0</td>\n",
       "      <td>tonnes</td>\n",
       "      <td>0.0</td>\n",
       "      <td>Â°C</td>\n",
       "      <td>0.448</td>\n",
       "    </tr>\n",
       "    <tr>\n",
       "      <th>11</th>\n",
       "      <td>Livestock Primary</td>\n",
       "      <td>Brunei Darussalam</td>\n",
       "      <td>Production</td>\n",
       "      <td>Meat, cattle</td>\n",
       "      <td>2000</td>\n",
       "      <td>tonnes</td>\n",
       "      <td>3210.0</td>\n",
       "      <td>41.24</td>\n",
       "      <td>tonnes</td>\n",
       "      <td>20.0</td>\n",
       "      <td>tonnes</td>\n",
       "      <td>0.0</td>\n",
       "      <td>Â°C</td>\n",
       "      <td>0.448</td>\n",
       "    </tr>\n",
       "    <tr>\n",
       "      <th>15</th>\n",
       "      <td>Livestock Primary</td>\n",
       "      <td>Brunei Darussalam</td>\n",
       "      <td>Production</td>\n",
       "      <td>Meat, chicken</td>\n",
       "      <td>2000</td>\n",
       "      <td>tonnes</td>\n",
       "      <td>11256.0</td>\n",
       "      <td>95.22</td>\n",
       "      <td>tonnes</td>\n",
       "      <td>920.0</td>\n",
       "      <td>tonnes</td>\n",
       "      <td>17.0</td>\n",
       "      <td>Â°C</td>\n",
       "      <td>0.448</td>\n",
       "    </tr>\n",
       "    <tr>\n",
       "      <th>19</th>\n",
       "      <td>Livestock Primary</td>\n",
       "      <td>Brunei Darussalam</td>\n",
       "      <td>Production</td>\n",
       "      <td>Milk, whole fresh cow</td>\n",
       "      <td>2000</td>\n",
       "      <td>tonnes</td>\n",
       "      <td>95.0</td>\n",
       "      <td>67.22</td>\n",
       "      <td>tonnes</td>\n",
       "      <td>1100.0</td>\n",
       "      <td>tonnes</td>\n",
       "      <td>0.0</td>\n",
       "      <td>Â°C</td>\n",
       "      <td>0.448</td>\n",
       "    </tr>\n",
       "  </tbody>\n",
       "</table>\n",
       "</div>"
      ],
      "text/plain": [
       "               Domain               Area     Element                   Item  \\\n",
       "3               Crops  Brunei Darussalam  Production                Bananas   \n",
       "7   Livestock Primary  Brunei Darussalam  Production    Eggs, hen, in shell   \n",
       "11  Livestock Primary  Brunei Darussalam  Production           Meat, cattle   \n",
       "15  Livestock Primary  Brunei Darussalam  Production          Meat, chicken   \n",
       "19  Livestock Primary  Brunei Darussalam  Production  Milk, whole fresh cow   \n",
       "\n",
       "    Year Prod_Unit  Production_Value  Price_Index Import_Unit  Import_Q  \\\n",
       "3   2000    tonnes             542.0        74.43      tonnes      50.0   \n",
       "7   2000    tonnes            4800.0        77.12      tonnes     600.0   \n",
       "11  2000    tonnes            3210.0        41.24      tonnes      20.0   \n",
       "15  2000    tonnes           11256.0        95.22      tonnes     920.0   \n",
       "19  2000    tonnes              95.0        67.22      tonnes    1100.0   \n",
       "\n",
       "   Export_Unit  Export_Q Temp_Change_Unit  Temp_Change_Value  \n",
       "3       tonnes       0.0              Â°C              0.448  \n",
       "7       tonnes       0.0              Â°C              0.448  \n",
       "11      tonnes       0.0              Â°C              0.448  \n",
       "15      tonnes      17.0              Â°C              0.448  \n",
       "19      tonnes       0.0              Â°C              0.448  "
      ]
     },
     "execution_count": 6,
     "metadata": {},
     "output_type": "execute_result"
    }
   ],
   "source": [
    "df2.rename(columns={\"Price_Value\":\"Price_Index\"}, inplace=True)\n",
    "df2.drop(['Price_Unit'], axis=1, inplace=True)\n",
    "df2.head()"
   ]
  },
  {
   "cell_type": "code",
   "execution_count": null,
   "metadata": {},
   "outputs": [],
   "source": []
  },
  {
   "cell_type": "code",
   "execution_count": 7,
   "metadata": {},
   "outputs": [
    {
     "data": {
      "text/html": [
       "<div>\n",
       "<style scoped>\n",
       "    .dataframe tbody tr th:only-of-type {\n",
       "        vertical-align: middle;\n",
       "    }\n",
       "\n",
       "    .dataframe tbody tr th {\n",
       "        vertical-align: top;\n",
       "    }\n",
       "\n",
       "    .dataframe thead th {\n",
       "        text-align: right;\n",
       "    }\n",
       "</style>\n",
       "<table border=\"1\" class=\"dataframe\">\n",
       "  <thead>\n",
       "    <tr style=\"text-align: right;\">\n",
       "      <th></th>\n",
       "      <th>Domain</th>\n",
       "      <th>Area</th>\n",
       "      <th>Element</th>\n",
       "      <th>Item</th>\n",
       "      <th>Year</th>\n",
       "      <th>Prod_Unit</th>\n",
       "      <th>Production_Value</th>\n",
       "      <th>Price_Unit</th>\n",
       "      <th>Price_Value</th>\n",
       "      <th>Import_Unit</th>\n",
       "      <th>Import_Q</th>\n",
       "      <th>Export_Unit</th>\n",
       "      <th>Export_Q</th>\n",
       "      <th>Temp_Change_Unit</th>\n",
       "      <th>Temp_Change_Value</th>\n",
       "    </tr>\n",
       "  </thead>\n",
       "  <tbody>\n",
       "    <tr>\n",
       "      <th>2</th>\n",
       "      <td>Crops</td>\n",
       "      <td>Brunei Darussalam</td>\n",
       "      <td>Production</td>\n",
       "      <td>Bananas</td>\n",
       "      <td>2000</td>\n",
       "      <td>tonnes</td>\n",
       "      <td>542.0</td>\n",
       "      <td>USD</td>\n",
       "      <td>823.7</td>\n",
       "      <td>tonnes</td>\n",
       "      <td>50.0</td>\n",
       "      <td>tonnes</td>\n",
       "      <td>0.0</td>\n",
       "      <td>Â°C</td>\n",
       "      <td>0.448</td>\n",
       "    </tr>\n",
       "    <tr>\n",
       "      <th>6</th>\n",
       "      <td>Livestock Primary</td>\n",
       "      <td>Brunei Darussalam</td>\n",
       "      <td>Production</td>\n",
       "      <td>Eggs, hen, in shell</td>\n",
       "      <td>2000</td>\n",
       "      <td>tonnes</td>\n",
       "      <td>4800.0</td>\n",
       "      <td>USD</td>\n",
       "      <td>1628.2</td>\n",
       "      <td>tonnes</td>\n",
       "      <td>600.0</td>\n",
       "      <td>tonnes</td>\n",
       "      <td>0.0</td>\n",
       "      <td>Â°C</td>\n",
       "      <td>0.448</td>\n",
       "    </tr>\n",
       "    <tr>\n",
       "      <th>10</th>\n",
       "      <td>Livestock Primary</td>\n",
       "      <td>Brunei Darussalam</td>\n",
       "      <td>Production</td>\n",
       "      <td>Meat, cattle</td>\n",
       "      <td>2000</td>\n",
       "      <td>tonnes</td>\n",
       "      <td>3210.0</td>\n",
       "      <td>USD</td>\n",
       "      <td>3816.8</td>\n",
       "      <td>tonnes</td>\n",
       "      <td>20.0</td>\n",
       "      <td>tonnes</td>\n",
       "      <td>0.0</td>\n",
       "      <td>Â°C</td>\n",
       "      <td>0.448</td>\n",
       "    </tr>\n",
       "    <tr>\n",
       "      <th>14</th>\n",
       "      <td>Livestock Primary</td>\n",
       "      <td>Brunei Darussalam</td>\n",
       "      <td>Production</td>\n",
       "      <td>Meat, chicken</td>\n",
       "      <td>2000</td>\n",
       "      <td>tonnes</td>\n",
       "      <td>11256.0</td>\n",
       "      <td>USD</td>\n",
       "      <td>2807.5</td>\n",
       "      <td>tonnes</td>\n",
       "      <td>920.0</td>\n",
       "      <td>tonnes</td>\n",
       "      <td>17.0</td>\n",
       "      <td>Â°C</td>\n",
       "      <td>0.448</td>\n",
       "    </tr>\n",
       "    <tr>\n",
       "      <th>18</th>\n",
       "      <td>Livestock Primary</td>\n",
       "      <td>Brunei Darussalam</td>\n",
       "      <td>Production</td>\n",
       "      <td>Milk, whole fresh cow</td>\n",
       "      <td>2000</td>\n",
       "      <td>tonnes</td>\n",
       "      <td>95.0</td>\n",
       "      <td>USD</td>\n",
       "      <td>1450.1</td>\n",
       "      <td>tonnes</td>\n",
       "      <td>1100.0</td>\n",
       "      <td>tonnes</td>\n",
       "      <td>0.0</td>\n",
       "      <td>Â°C</td>\n",
       "      <td>0.448</td>\n",
       "    </tr>\n",
       "    <tr>\n",
       "      <th>...</th>\n",
       "      <td>...</td>\n",
       "      <td>...</td>\n",
       "      <td>...</td>\n",
       "      <td>...</td>\n",
       "      <td>...</td>\n",
       "      <td>...</td>\n",
       "      <td>...</td>\n",
       "      <td>...</td>\n",
       "      <td>...</td>\n",
       "      <td>...</td>\n",
       "      <td>...</td>\n",
       "      <td>...</td>\n",
       "      <td>...</td>\n",
       "      <td>...</td>\n",
       "      <td>...</td>\n",
       "    </tr>\n",
       "    <tr>\n",
       "      <th>4496</th>\n",
       "      <td>Livestock Primary</td>\n",
       "      <td>Viet Nam</td>\n",
       "      <td>Production</td>\n",
       "      <td>Meat, chicken</td>\n",
       "      <td>2013</td>\n",
       "      <td>tonnes</td>\n",
       "      <td>575752.0</td>\n",
       "      <td>USD</td>\n",
       "      <td>4515.7</td>\n",
       "      <td>tonnes</td>\n",
       "      <td>115187.0</td>\n",
       "      <td>tonnes</td>\n",
       "      <td>72.0</td>\n",
       "      <td>Â°C</td>\n",
       "      <td>0.926</td>\n",
       "    </tr>\n",
       "    <tr>\n",
       "      <th>4502</th>\n",
       "      <td>Crops</td>\n",
       "      <td>Viet Nam</td>\n",
       "      <td>Production</td>\n",
       "      <td>Maize</td>\n",
       "      <td>2018</td>\n",
       "      <td>tonnes</td>\n",
       "      <td>4874054.0</td>\n",
       "      <td>USD</td>\n",
       "      <td>263.0</td>\n",
       "      <td>tonnes</td>\n",
       "      <td>10377637.0</td>\n",
       "      <td>tonnes</td>\n",
       "      <td>80999.0</td>\n",
       "      <td>Â°C</td>\n",
       "      <td>0.904</td>\n",
       "    </tr>\n",
       "    <tr>\n",
       "      <th>4506</th>\n",
       "      <td>Crops</td>\n",
       "      <td>Viet Nam</td>\n",
       "      <td>Production</td>\n",
       "      <td>Rice, paddy</td>\n",
       "      <td>2018</td>\n",
       "      <td>tonnes</td>\n",
       "      <td>44046250.0</td>\n",
       "      <td>USD</td>\n",
       "      <td>282.7</td>\n",
       "      <td>tonnes</td>\n",
       "      <td>5124.0</td>\n",
       "      <td>tonnes</td>\n",
       "      <td>2592.0</td>\n",
       "      <td>Â°C</td>\n",
       "      <td>0.904</td>\n",
       "    </tr>\n",
       "    <tr>\n",
       "      <th>4510</th>\n",
       "      <td>Livestock Primary</td>\n",
       "      <td>Viet Nam</td>\n",
       "      <td>Production</td>\n",
       "      <td>Eggs, hen, in shell</td>\n",
       "      <td>2018</td>\n",
       "      <td>tonnes</td>\n",
       "      <td>582280.0</td>\n",
       "      <td>USD</td>\n",
       "      <td>1431.5</td>\n",
       "      <td>tonnes</td>\n",
       "      <td>16.0</td>\n",
       "      <td>tonnes</td>\n",
       "      <td>1653.0</td>\n",
       "      <td>Â°C</td>\n",
       "      <td>0.904</td>\n",
       "    </tr>\n",
       "    <tr>\n",
       "      <th>4518</th>\n",
       "      <td>Livestock Primary</td>\n",
       "      <td>Brunei Darussalam</td>\n",
       "      <td>Production</td>\n",
       "      <td>Meat, chicken</td>\n",
       "      <td>2018</td>\n",
       "      <td>tonnes</td>\n",
       "      <td>25057.0</td>\n",
       "      <td>USD</td>\n",
       "      <td>3380.5</td>\n",
       "      <td>tonnes</td>\n",
       "      <td>1328.0</td>\n",
       "      <td>tonnes</td>\n",
       "      <td>0.0</td>\n",
       "      <td>Â°C</td>\n",
       "      <td>0.969</td>\n",
       "    </tr>\n",
       "  </tbody>\n",
       "</table>\n",
       "<p>900 rows × 15 columns</p>\n",
       "</div>"
      ],
      "text/plain": [
       "                 Domain               Area     Element                   Item  \\\n",
       "2                 Crops  Brunei Darussalam  Production                Bananas   \n",
       "6     Livestock Primary  Brunei Darussalam  Production    Eggs, hen, in shell   \n",
       "10    Livestock Primary  Brunei Darussalam  Production           Meat, cattle   \n",
       "14    Livestock Primary  Brunei Darussalam  Production          Meat, chicken   \n",
       "18    Livestock Primary  Brunei Darussalam  Production  Milk, whole fresh cow   \n",
       "...                 ...                ...         ...                    ...   \n",
       "4496  Livestock Primary           Viet Nam  Production          Meat, chicken   \n",
       "4502              Crops           Viet Nam  Production                  Maize   \n",
       "4506              Crops           Viet Nam  Production            Rice, paddy   \n",
       "4510  Livestock Primary           Viet Nam  Production    Eggs, hen, in shell   \n",
       "4518  Livestock Primary  Brunei Darussalam  Production          Meat, chicken   \n",
       "\n",
       "      Year Prod_Unit  Production_Value Price_Unit  Price_Value Import_Unit  \\\n",
       "2     2000    tonnes             542.0        USD        823.7      tonnes   \n",
       "6     2000    tonnes            4800.0        USD       1628.2      tonnes   \n",
       "10    2000    tonnes            3210.0        USD       3816.8      tonnes   \n",
       "14    2000    tonnes           11256.0        USD       2807.5      tonnes   \n",
       "18    2000    tonnes              95.0        USD       1450.1      tonnes   \n",
       "...    ...       ...               ...        ...          ...         ...   \n",
       "4496  2013    tonnes          575752.0        USD       4515.7      tonnes   \n",
       "4502  2018    tonnes         4874054.0        USD        263.0      tonnes   \n",
       "4506  2018    tonnes        44046250.0        USD        282.7      tonnes   \n",
       "4510  2018    tonnes          582280.0        USD       1431.5      tonnes   \n",
       "4518  2018    tonnes           25057.0        USD       3380.5      tonnes   \n",
       "\n",
       "        Import_Q Export_Unit  Export_Q Temp_Change_Unit  Temp_Change_Value  \n",
       "2           50.0      tonnes       0.0              Â°C              0.448  \n",
       "6          600.0      tonnes       0.0              Â°C              0.448  \n",
       "10          20.0      tonnes       0.0              Â°C              0.448  \n",
       "14         920.0      tonnes      17.0              Â°C              0.448  \n",
       "18        1100.0      tonnes       0.0              Â°C              0.448  \n",
       "...          ...         ...       ...              ...                ...  \n",
       "4496    115187.0      tonnes      72.0              Â°C              0.926  \n",
       "4502  10377637.0      tonnes   80999.0              Â°C              0.904  \n",
       "4506      5124.0      tonnes    2592.0              Â°C              0.904  \n",
       "4510        16.0      tonnes    1653.0              Â°C              0.904  \n",
       "4518      1328.0      tonnes       0.0              Â°C              0.969  \n",
       "\n",
       "[900 rows x 15 columns]"
      ]
     },
     "execution_count": 7,
     "metadata": {},
     "output_type": "execute_result"
    }
   ],
   "source": [
    "df3 = df.loc[(df['Prod_Unit'].isin(['tonnes']) & (df['Price_Unit'] == 'USD'))]\n",
    "df3"
   ]
  },
  {
   "cell_type": "code",
   "execution_count": 8,
   "metadata": {},
   "outputs": [
    {
     "data": {
      "text/html": [
       "<div>\n",
       "<style scoped>\n",
       "    .dataframe tbody tr th:only-of-type {\n",
       "        vertical-align: middle;\n",
       "    }\n",
       "\n",
       "    .dataframe tbody tr th {\n",
       "        vertical-align: top;\n",
       "    }\n",
       "\n",
       "    .dataframe thead th {\n",
       "        text-align: right;\n",
       "    }\n",
       "</style>\n",
       "<table border=\"1\" class=\"dataframe\">\n",
       "  <thead>\n",
       "    <tr style=\"text-align: right;\">\n",
       "      <th></th>\n",
       "      <th>Domain</th>\n",
       "      <th>Area</th>\n",
       "      <th>Element</th>\n",
       "      <th>Item</th>\n",
       "      <th>Year</th>\n",
       "      <th>Prod_Unit</th>\n",
       "      <th>Production_Value</th>\n",
       "      <th>Price_Index</th>\n",
       "      <th>Import_Unit</th>\n",
       "      <th>Import_Q</th>\n",
       "      <th>Export_Unit</th>\n",
       "      <th>Export_Q</th>\n",
       "      <th>Temp_Change_Unit</th>\n",
       "      <th>Temp_Change_Value</th>\n",
       "      <th>Price_Unit</th>\n",
       "      <th>Price_Value</th>\n",
       "    </tr>\n",
       "  </thead>\n",
       "  <tbody>\n",
       "    <tr>\n",
       "      <th>0</th>\n",
       "      <td>Crops</td>\n",
       "      <td>Brunei Darussalam</td>\n",
       "      <td>Production</td>\n",
       "      <td>Bananas</td>\n",
       "      <td>2000</td>\n",
       "      <td>tonnes</td>\n",
       "      <td>542.0</td>\n",
       "      <td>74.43</td>\n",
       "      <td>tonnes</td>\n",
       "      <td>50.0</td>\n",
       "      <td>tonnes</td>\n",
       "      <td>0.0</td>\n",
       "      <td>Â°C</td>\n",
       "      <td>0.448</td>\n",
       "      <td>USD</td>\n",
       "      <td>823.7</td>\n",
       "    </tr>\n",
       "    <tr>\n",
       "      <th>1</th>\n",
       "      <td>Livestock Primary</td>\n",
       "      <td>Brunei Darussalam</td>\n",
       "      <td>Production</td>\n",
       "      <td>Eggs, hen, in shell</td>\n",
       "      <td>2000</td>\n",
       "      <td>tonnes</td>\n",
       "      <td>4800.0</td>\n",
       "      <td>77.12</td>\n",
       "      <td>tonnes</td>\n",
       "      <td>600.0</td>\n",
       "      <td>tonnes</td>\n",
       "      <td>0.0</td>\n",
       "      <td>Â°C</td>\n",
       "      <td>0.448</td>\n",
       "      <td>USD</td>\n",
       "      <td>1628.2</td>\n",
       "    </tr>\n",
       "    <tr>\n",
       "      <th>2</th>\n",
       "      <td>Livestock Primary</td>\n",
       "      <td>Brunei Darussalam</td>\n",
       "      <td>Production</td>\n",
       "      <td>Meat, cattle</td>\n",
       "      <td>2000</td>\n",
       "      <td>tonnes</td>\n",
       "      <td>3210.0</td>\n",
       "      <td>41.24</td>\n",
       "      <td>tonnes</td>\n",
       "      <td>20.0</td>\n",
       "      <td>tonnes</td>\n",
       "      <td>0.0</td>\n",
       "      <td>Â°C</td>\n",
       "      <td>0.448</td>\n",
       "      <td>USD</td>\n",
       "      <td>3816.8</td>\n",
       "    </tr>\n",
       "    <tr>\n",
       "      <th>3</th>\n",
       "      <td>Livestock Primary</td>\n",
       "      <td>Brunei Darussalam</td>\n",
       "      <td>Production</td>\n",
       "      <td>Meat, chicken</td>\n",
       "      <td>2000</td>\n",
       "      <td>tonnes</td>\n",
       "      <td>11256.0</td>\n",
       "      <td>95.22</td>\n",
       "      <td>tonnes</td>\n",
       "      <td>920.0</td>\n",
       "      <td>tonnes</td>\n",
       "      <td>17.0</td>\n",
       "      <td>Â°C</td>\n",
       "      <td>0.448</td>\n",
       "      <td>USD</td>\n",
       "      <td>2807.5</td>\n",
       "    </tr>\n",
       "    <tr>\n",
       "      <th>4</th>\n",
       "      <td>Livestock Primary</td>\n",
       "      <td>Brunei Darussalam</td>\n",
       "      <td>Production</td>\n",
       "      <td>Milk, whole fresh cow</td>\n",
       "      <td>2000</td>\n",
       "      <td>tonnes</td>\n",
       "      <td>95.0</td>\n",
       "      <td>67.22</td>\n",
       "      <td>tonnes</td>\n",
       "      <td>1100.0</td>\n",
       "      <td>tonnes</td>\n",
       "      <td>0.0</td>\n",
       "      <td>Â°C</td>\n",
       "      <td>0.448</td>\n",
       "      <td>USD</td>\n",
       "      <td>1450.1</td>\n",
       "    </tr>\n",
       "    <tr>\n",
       "      <th>...</th>\n",
       "      <td>...</td>\n",
       "      <td>...</td>\n",
       "      <td>...</td>\n",
       "      <td>...</td>\n",
       "      <td>...</td>\n",
       "      <td>...</td>\n",
       "      <td>...</td>\n",
       "      <td>...</td>\n",
       "      <td>...</td>\n",
       "      <td>...</td>\n",
       "      <td>...</td>\n",
       "      <td>...</td>\n",
       "      <td>...</td>\n",
       "      <td>...</td>\n",
       "      <td>...</td>\n",
       "      <td>...</td>\n",
       "    </tr>\n",
       "    <tr>\n",
       "      <th>881</th>\n",
       "      <td>Livestock Primary</td>\n",
       "      <td>Viet Nam</td>\n",
       "      <td>Production</td>\n",
       "      <td>Meat, chicken</td>\n",
       "      <td>2013</td>\n",
       "      <td>tonnes</td>\n",
       "      <td>575752.0</td>\n",
       "      <td>101.28</td>\n",
       "      <td>tonnes</td>\n",
       "      <td>115187.0</td>\n",
       "      <td>tonnes</td>\n",
       "      <td>72.0</td>\n",
       "      <td>Â°C</td>\n",
       "      <td>0.926</td>\n",
       "      <td>USD</td>\n",
       "      <td>4515.7</td>\n",
       "    </tr>\n",
       "    <tr>\n",
       "      <th>882</th>\n",
       "      <td>Crops</td>\n",
       "      <td>Viet Nam</td>\n",
       "      <td>Production</td>\n",
       "      <td>Maize</td>\n",
       "      <td>2018</td>\n",
       "      <td>tonnes</td>\n",
       "      <td>4874054.0</td>\n",
       "      <td>88.55</td>\n",
       "      <td>tonnes</td>\n",
       "      <td>10377637.0</td>\n",
       "      <td>tonnes</td>\n",
       "      <td>80999.0</td>\n",
       "      <td>Â°C</td>\n",
       "      <td>0.904</td>\n",
       "      <td>USD</td>\n",
       "      <td>263.0</td>\n",
       "    </tr>\n",
       "    <tr>\n",
       "      <th>883</th>\n",
       "      <td>Crops</td>\n",
       "      <td>Viet Nam</td>\n",
       "      <td>Production</td>\n",
       "      <td>Rice, paddy</td>\n",
       "      <td>2018</td>\n",
       "      <td>tonnes</td>\n",
       "      <td>44046250.0</td>\n",
       "      <td>102.60</td>\n",
       "      <td>tonnes</td>\n",
       "      <td>5124.0</td>\n",
       "      <td>tonnes</td>\n",
       "      <td>2592.0</td>\n",
       "      <td>Â°C</td>\n",
       "      <td>0.904</td>\n",
       "      <td>USD</td>\n",
       "      <td>282.7</td>\n",
       "    </tr>\n",
       "    <tr>\n",
       "      <th>884</th>\n",
       "      <td>Livestock Primary</td>\n",
       "      <td>Viet Nam</td>\n",
       "      <td>Production</td>\n",
       "      <td>Eggs, hen, in shell</td>\n",
       "      <td>2018</td>\n",
       "      <td>tonnes</td>\n",
       "      <td>582280.0</td>\n",
       "      <td>66.73</td>\n",
       "      <td>tonnes</td>\n",
       "      <td>16.0</td>\n",
       "      <td>tonnes</td>\n",
       "      <td>1653.0</td>\n",
       "      <td>Â°C</td>\n",
       "      <td>0.904</td>\n",
       "      <td>USD</td>\n",
       "      <td>1431.5</td>\n",
       "    </tr>\n",
       "    <tr>\n",
       "      <th>885</th>\n",
       "      <td>Livestock Primary</td>\n",
       "      <td>Brunei Darussalam</td>\n",
       "      <td>Production</td>\n",
       "      <td>Meat, chicken</td>\n",
       "      <td>2018</td>\n",
       "      <td>tonnes</td>\n",
       "      <td>25057.0</td>\n",
       "      <td>89.71</td>\n",
       "      <td>tonnes</td>\n",
       "      <td>1328.0</td>\n",
       "      <td>tonnes</td>\n",
       "      <td>0.0</td>\n",
       "      <td>Â°C</td>\n",
       "      <td>0.969</td>\n",
       "      <td>USD</td>\n",
       "      <td>3380.5</td>\n",
       "    </tr>\n",
       "  </tbody>\n",
       "</table>\n",
       "<p>886 rows × 16 columns</p>\n",
       "</div>"
      ],
      "text/plain": [
       "                Domain               Area     Element                   Item  \\\n",
       "0                Crops  Brunei Darussalam  Production                Bananas   \n",
       "1    Livestock Primary  Brunei Darussalam  Production    Eggs, hen, in shell   \n",
       "2    Livestock Primary  Brunei Darussalam  Production           Meat, cattle   \n",
       "3    Livestock Primary  Brunei Darussalam  Production          Meat, chicken   \n",
       "4    Livestock Primary  Brunei Darussalam  Production  Milk, whole fresh cow   \n",
       "..                 ...                ...         ...                    ...   \n",
       "881  Livestock Primary           Viet Nam  Production          Meat, chicken   \n",
       "882              Crops           Viet Nam  Production                  Maize   \n",
       "883              Crops           Viet Nam  Production            Rice, paddy   \n",
       "884  Livestock Primary           Viet Nam  Production    Eggs, hen, in shell   \n",
       "885  Livestock Primary  Brunei Darussalam  Production          Meat, chicken   \n",
       "\n",
       "     Year Prod_Unit  Production_Value  Price_Index Import_Unit    Import_Q  \\\n",
       "0    2000    tonnes             542.0        74.43      tonnes        50.0   \n",
       "1    2000    tonnes            4800.0        77.12      tonnes       600.0   \n",
       "2    2000    tonnes            3210.0        41.24      tonnes        20.0   \n",
       "3    2000    tonnes           11256.0        95.22      tonnes       920.0   \n",
       "4    2000    tonnes              95.0        67.22      tonnes      1100.0   \n",
       "..    ...       ...               ...          ...         ...         ...   \n",
       "881  2013    tonnes          575752.0       101.28      tonnes    115187.0   \n",
       "882  2018    tonnes         4874054.0        88.55      tonnes  10377637.0   \n",
       "883  2018    tonnes        44046250.0       102.60      tonnes      5124.0   \n",
       "884  2018    tonnes          582280.0        66.73      tonnes        16.0   \n",
       "885  2018    tonnes           25057.0        89.71      tonnes      1328.0   \n",
       "\n",
       "    Export_Unit  Export_Q Temp_Change_Unit  Temp_Change_Value Price_Unit  \\\n",
       "0        tonnes       0.0              Â°C              0.448        USD   \n",
       "1        tonnes       0.0              Â°C              0.448        USD   \n",
       "2        tonnes       0.0              Â°C              0.448        USD   \n",
       "3        tonnes      17.0              Â°C              0.448        USD   \n",
       "4        tonnes       0.0              Â°C              0.448        USD   \n",
       "..          ...       ...              ...                ...        ...   \n",
       "881      tonnes      72.0              Â°C              0.926        USD   \n",
       "882      tonnes   80999.0              Â°C              0.904        USD   \n",
       "883      tonnes    2592.0              Â°C              0.904        USD   \n",
       "884      tonnes    1653.0              Â°C              0.904        USD   \n",
       "885      tonnes       0.0              Â°C              0.969        USD   \n",
       "\n",
       "     Price_Value  \n",
       "0          823.7  \n",
       "1         1628.2  \n",
       "2         3816.8  \n",
       "3         2807.5  \n",
       "4         1450.1  \n",
       "..           ...  \n",
       "881       4515.7  \n",
       "882        263.0  \n",
       "883        282.7  \n",
       "884       1431.5  \n",
       "885       3380.5  \n",
       "\n",
       "[886 rows x 16 columns]"
      ]
     },
     "execution_count": 8,
     "metadata": {},
     "output_type": "execute_result"
    }
   ],
   "source": [
    "df4 = pd.merge(df2, df3, how='inner', on=['Domain', 'Area', 'Element', 'Item', 'Year', 'Prod_Unit', 'Production_Value', 'Import_Unit', 'Import_Q', 'Export_Unit', 'Export_Q', 'Temp_Change_Unit', 'Temp_Change_Value'])\n",
    "df4"
   ]
  },
  {
   "cell_type": "code",
   "execution_count": 9,
   "metadata": {},
   "outputs": [],
   "source": [
    "# df7 = pd.merge(df6, df4, how='inner', on=['Area', 'Item', 'Year'])\n",
    "# df7.head()"
   ]
  },
  {
   "cell_type": "code",
   "execution_count": 10,
   "metadata": {},
   "outputs": [
    {
     "data": {
      "text/plain": [
       "array(['Bananas', 'Eggs, hen, in shell', 'Meat, cattle', 'Meat, chicken',\n",
       "       'Milk, whole fresh cow', 'Rice, paddy', 'Maize', 'Onions, dry',\n",
       "       'Meat, sheep', 'Oil palm fruit', 'Garlic', 'Meat, duck',\n",
       "       'Meat, goat', 'Onions, shallots, green', 'Cassava'], dtype=object)"
      ]
     },
     "execution_count": 10,
     "metadata": {},
     "output_type": "execute_result"
    }
   ],
   "source": [
    "df4['Item'].unique()"
   ]
  },
  {
   "cell_type": "code",
   "execution_count": 11,
   "metadata": {},
   "outputs": [
    {
     "name": "stdout",
     "output_type": "stream",
     "text": [
      "<class 'pandas.core.frame.DataFrame'>\n",
      "Int64Index: 886 entries, 0 to 885\n",
      "Data columns (total 16 columns):\n",
      " #   Column             Non-Null Count  Dtype  \n",
      "---  ------             --------------  -----  \n",
      " 0   Domain             886 non-null    object \n",
      " 1   Area               886 non-null    object \n",
      " 2   Element            886 non-null    object \n",
      " 3   Item               886 non-null    object \n",
      " 4   Year               886 non-null    int64  \n",
      " 5   Prod_Unit          886 non-null    object \n",
      " 6   Production_Value   886 non-null    float64\n",
      " 7   Price_Index        886 non-null    float64\n",
      " 8   Import_Unit        886 non-null    object \n",
      " 9   Import_Q           882 non-null    float64\n",
      " 10  Export_Unit        886 non-null    object \n",
      " 11  Export_Q           852 non-null    float64\n",
      " 12  Temp_Change_Unit   886 non-null    object \n",
      " 13  Temp_Change_Value  843 non-null    float64\n",
      " 14  Price_Unit         886 non-null    object \n",
      " 15  Price_Value        886 non-null    float64\n",
      "dtypes: float64(6), int64(1), object(9)\n",
      "memory usage: 117.7+ KB\n"
     ]
    }
   ],
   "source": [
    "df4.info()"
   ]
  },
  {
   "cell_type": "code",
   "execution_count": 12,
   "metadata": {},
   "outputs": [
    {
     "data": {
      "text/html": [
       "<div>\n",
       "<style scoped>\n",
       "    .dataframe tbody tr th:only-of-type {\n",
       "        vertical-align: middle;\n",
       "    }\n",
       "\n",
       "    .dataframe tbody tr th {\n",
       "        vertical-align: top;\n",
       "    }\n",
       "\n",
       "    .dataframe thead th {\n",
       "        text-align: right;\n",
       "    }\n",
       "</style>\n",
       "<table border=\"1\" class=\"dataframe\">\n",
       "  <thead>\n",
       "    <tr style=\"text-align: right;\">\n",
       "      <th></th>\n",
       "      <th>count</th>\n",
       "      <th>mean</th>\n",
       "      <th>std</th>\n",
       "      <th>min</th>\n",
       "      <th>25%</th>\n",
       "      <th>50%</th>\n",
       "      <th>75%</th>\n",
       "      <th>max</th>\n",
       "    </tr>\n",
       "  </thead>\n",
       "  <tbody>\n",
       "    <tr>\n",
       "      <th>Year</th>\n",
       "      <td>886.0</td>\n",
       "      <td>2.008523e+03</td>\n",
       "      <td>5.233643e+00</td>\n",
       "      <td>2000.000</td>\n",
       "      <td>2004.0000</td>\n",
       "      <td>2008.000</td>\n",
       "      <td>2.013000e+03</td>\n",
       "      <td>2.018000e+03</td>\n",
       "    </tr>\n",
       "    <tr>\n",
       "      <th>Production_Value</th>\n",
       "      <td>886.0</td>\n",
       "      <td>6.326560e+06</td>\n",
       "      <td>1.858241e+07</td>\n",
       "      <td>37.000</td>\n",
       "      <td>52724.0000</td>\n",
       "      <td>371572.500</td>\n",
       "      <td>1.942986e+06</td>\n",
       "      <td>1.487088e+08</td>\n",
       "    </tr>\n",
       "    <tr>\n",
       "      <th>Price_Index</th>\n",
       "      <td>886.0</td>\n",
       "      <td>7.542011e+01</td>\n",
       "      <td>2.639291e+01</td>\n",
       "      <td>11.940</td>\n",
       "      <td>56.8175</td>\n",
       "      <td>76.090</td>\n",
       "      <td>9.480750e+01</td>\n",
       "      <td>1.690600e+02</td>\n",
       "    </tr>\n",
       "    <tr>\n",
       "      <th>Import_Q</th>\n",
       "      <td>882.0</td>\n",
       "      <td>1.685158e+05</td>\n",
       "      <td>7.374276e+05</td>\n",
       "      <td>0.000</td>\n",
       "      <td>147.0000</td>\n",
       "      <td>2672.500</td>\n",
       "      <td>3.572550e+04</td>\n",
       "      <td>1.037764e+07</td>\n",
       "    </tr>\n",
       "    <tr>\n",
       "      <th>Export_Q</th>\n",
       "      <td>852.0</td>\n",
       "      <td>5.284738e+05</td>\n",
       "      <td>2.882171e+06</td>\n",
       "      <td>0.000</td>\n",
       "      <td>18.0000</td>\n",
       "      <td>875.000</td>\n",
       "      <td>1.784325e+04</td>\n",
       "      <td>2.789368e+07</td>\n",
       "    </tr>\n",
       "    <tr>\n",
       "      <th>Temp_Change_Value</th>\n",
       "      <td>843.0</td>\n",
       "      <td>7.152515e-01</td>\n",
       "      <td>2.932487e-01</td>\n",
       "      <td>0.014</td>\n",
       "      <td>0.5410</td>\n",
       "      <td>0.666</td>\n",
       "      <td>8.720000e-01</td>\n",
       "      <td>1.566000e+00</td>\n",
       "    </tr>\n",
       "    <tr>\n",
       "      <th>Price_Value</th>\n",
       "      <td>886.0</td>\n",
       "      <td>1.515471e+03</td>\n",
       "      <td>1.759956e+03</td>\n",
       "      <td>21.300</td>\n",
       "      <td>251.4250</td>\n",
       "      <td>861.300</td>\n",
       "      <td>2.161025e+03</td>\n",
       "      <td>9.267200e+03</td>\n",
       "    </tr>\n",
       "  </tbody>\n",
       "</table>\n",
       "</div>"
      ],
      "text/plain": [
       "                   count          mean           std       min         25%  \\\n",
       "Year               886.0  2.008523e+03  5.233643e+00  2000.000   2004.0000   \n",
       "Production_Value   886.0  6.326560e+06  1.858241e+07    37.000  52724.0000   \n",
       "Price_Index        886.0  7.542011e+01  2.639291e+01    11.940     56.8175   \n",
       "Import_Q           882.0  1.685158e+05  7.374276e+05     0.000    147.0000   \n",
       "Export_Q           852.0  5.284738e+05  2.882171e+06     0.000     18.0000   \n",
       "Temp_Change_Value  843.0  7.152515e-01  2.932487e-01     0.014      0.5410   \n",
       "Price_Value        886.0  1.515471e+03  1.759956e+03    21.300    251.4250   \n",
       "\n",
       "                          50%           75%           max  \n",
       "Year                 2008.000  2.013000e+03  2.018000e+03  \n",
       "Production_Value   371572.500  1.942986e+06  1.487088e+08  \n",
       "Price_Index            76.090  9.480750e+01  1.690600e+02  \n",
       "Import_Q             2672.500  3.572550e+04  1.037764e+07  \n",
       "Export_Q              875.000  1.784325e+04  2.789368e+07  \n",
       "Temp_Change_Value       0.666  8.720000e-01  1.566000e+00  \n",
       "Price_Value           861.300  2.161025e+03  9.267200e+03  "
      ]
     },
     "execution_count": 12,
     "metadata": {},
     "output_type": "execute_result"
    }
   ],
   "source": [
    "df4.describe().T"
   ]
  },
  {
   "cell_type": "code",
   "execution_count": 13,
   "metadata": {},
   "outputs": [
    {
     "data": {
      "text/html": [
       "<div>\n",
       "<style scoped>\n",
       "    .dataframe tbody tr th:only-of-type {\n",
       "        vertical-align: middle;\n",
       "    }\n",
       "\n",
       "    .dataframe tbody tr th {\n",
       "        vertical-align: top;\n",
       "    }\n",
       "\n",
       "    .dataframe thead th {\n",
       "        text-align: right;\n",
       "    }\n",
       "</style>\n",
       "<table border=\"1\" class=\"dataframe\">\n",
       "  <thead>\n",
       "    <tr style=\"text-align: right;\">\n",
       "      <th></th>\n",
       "      <th>count</th>\n",
       "      <th>unique</th>\n",
       "      <th>top</th>\n",
       "      <th>freq</th>\n",
       "    </tr>\n",
       "  </thead>\n",
       "  <tbody>\n",
       "    <tr>\n",
       "      <th>Domain</th>\n",
       "      <td>886</td>\n",
       "      <td>2</td>\n",
       "      <td>Livestock Primary</td>\n",
       "      <td>450</td>\n",
       "    </tr>\n",
       "    <tr>\n",
       "      <th>Area</th>\n",
       "      <td>886</td>\n",
       "      <td>9</td>\n",
       "      <td>Thailand</td>\n",
       "      <td>201</td>\n",
       "    </tr>\n",
       "    <tr>\n",
       "      <th>Element</th>\n",
       "      <td>886</td>\n",
       "      <td>1</td>\n",
       "      <td>Production</td>\n",
       "      <td>886</td>\n",
       "    </tr>\n",
       "    <tr>\n",
       "      <th>Item</th>\n",
       "      <td>886</td>\n",
       "      <td>15</td>\n",
       "      <td>Meat, chicken</td>\n",
       "      <td>116</td>\n",
       "    </tr>\n",
       "    <tr>\n",
       "      <th>Prod_Unit</th>\n",
       "      <td>886</td>\n",
       "      <td>1</td>\n",
       "      <td>tonnes</td>\n",
       "      <td>886</td>\n",
       "    </tr>\n",
       "    <tr>\n",
       "      <th>Import_Unit</th>\n",
       "      <td>886</td>\n",
       "      <td>1</td>\n",
       "      <td>tonnes</td>\n",
       "      <td>886</td>\n",
       "    </tr>\n",
       "    <tr>\n",
       "      <th>Export_Unit</th>\n",
       "      <td>886</td>\n",
       "      <td>1</td>\n",
       "      <td>tonnes</td>\n",
       "      <td>886</td>\n",
       "    </tr>\n",
       "    <tr>\n",
       "      <th>Temp_Change_Unit</th>\n",
       "      <td>886</td>\n",
       "      <td>1</td>\n",
       "      <td>Â°C</td>\n",
       "      <td>886</td>\n",
       "    </tr>\n",
       "    <tr>\n",
       "      <th>Price_Unit</th>\n",
       "      <td>886</td>\n",
       "      <td>1</td>\n",
       "      <td>USD</td>\n",
       "      <td>886</td>\n",
       "    </tr>\n",
       "  </tbody>\n",
       "</table>\n",
       "</div>"
      ],
      "text/plain": [
       "                 count unique                top freq\n",
       "Domain             886      2  Livestock Primary  450\n",
       "Area               886      9           Thailand  201\n",
       "Element            886      1         Production  886\n",
       "Item               886     15      Meat, chicken  116\n",
       "Prod_Unit          886      1             tonnes  886\n",
       "Import_Unit        886      1             tonnes  886\n",
       "Export_Unit        886      1             tonnes  886\n",
       "Temp_Change_Unit   886      1                Â°C  886\n",
       "Price_Unit         886      1                USD  886"
      ]
     },
     "execution_count": 13,
     "metadata": {},
     "output_type": "execute_result"
    }
   ],
   "source": [
    "df4.describe(include='O').T"
   ]
  },
  {
   "cell_type": "code",
   "execution_count": 14,
   "metadata": {},
   "outputs": [
    {
     "data": {
      "text/plain": [
       "Domain                0\n",
       "Area                  0\n",
       "Element               0\n",
       "Item                  0\n",
       "Year                  0\n",
       "Prod_Unit             0\n",
       "Production_Value      0\n",
       "Price_Index           0\n",
       "Import_Unit           0\n",
       "Import_Q              4\n",
       "Export_Unit           0\n",
       "Export_Q             34\n",
       "Temp_Change_Unit      0\n",
       "Temp_Change_Value    43\n",
       "Price_Unit            0\n",
       "Price_Value           0\n",
       "dtype: int64"
      ]
     },
     "execution_count": 14,
     "metadata": {},
     "output_type": "execute_result"
    }
   ],
   "source": [
    "df4.isna().sum()"
   ]
  },
  {
   "cell_type": "code",
   "execution_count": 15,
   "metadata": {},
   "outputs": [],
   "source": [
    "df4['Import_Q'].fillna(df4['Import_Q'].mean(), inplace=True)"
   ]
  },
  {
   "cell_type": "code",
   "execution_count": 16,
   "metadata": {},
   "outputs": [],
   "source": [
    "df4['Export_Q'].fillna(df4['Export_Q'].mean(), inplace=True)"
   ]
  },
  {
   "cell_type": "code",
   "execution_count": 17,
   "metadata": {},
   "outputs": [],
   "source": [
    "df4['Temp_Change_Value'].fillna(df4['Temp_Change_Value'].mean(), inplace=True)"
   ]
  },
  {
   "cell_type": "code",
   "execution_count": 18,
   "metadata": {},
   "outputs": [
    {
     "data": {
      "text/plain": [
       "<seaborn.axisgrid.PairGrid at 0x193903a00a0>"
      ]
     },
     "execution_count": 18,
     "metadata": {},
     "output_type": "execute_result"
    },
    {
     "data": {
      "image/png": "[encoded data removed]",
      "text/plain": [
       "<Figure size 1410.62x1260 with 56 Axes>"
      ]
     },
     "metadata": {
      "needs_background": "light"
     },
     "output_type": "display_data"
    }
   ],
   "source": [
    "sns.pairplot(df4, hue='Item')"
   ]
  },
  {
   "cell_type": "code",
   "execution_count": 19,
   "metadata": {},
   "outputs": [
    {
     "data": {
      "text/plain": [
       "<matplotlib.axes._subplots.AxesSubplot at 0x19393a370d0>"
      ]
     },
     "execution_count": 19,
     "metadata": {},
     "output_type": "execute_result"
    },
    {
     "data": {
      "image/png": "[encoded data removed]",
      "text/plain": [
       "<Figure size 432x288 with 2 Axes>"
      ]
     },
     "metadata": {
      "needs_background": "light"
     },
     "output_type": "display_data"
    }
   ],
   "source": [
    "dfc=df4.corr()\n",
    "sns.heatmap(dfc, annot=True)"
   ]
  },
  {
   "cell_type": "code",
   "execution_count": 20,
   "metadata": {},
   "outputs": [],
   "source": [
    "# dfc1=df7.corr()\n",
    "# sns.heatmap(dfc1, annot=True)"
   ]
  },
  {
   "cell_type": "code",
   "execution_count": 21,
   "metadata": {},
   "outputs": [
    {
     "data": {
      "text/plain": [
       "<matplotlib.axes._subplots.AxesSubplot at 0x193934c56d0>"
      ]
     },
     "execution_count": 21,
     "metadata": {},
     "output_type": "execute_result"
    },
    {
     "data": {
      "image/png": "[encoded data removed]",
      "text/plain": [
       "<Figure size 432x288 with 1 Axes>"
      ]
     },
     "metadata": {
      "needs_background": "light"
     },
     "output_type": "display_data"
    }
   ],
   "source": [
    "sns.distplot(df4['Price_Value'])"
   ]
  },
  {
   "cell_type": "code",
   "execution_count": 22,
   "metadata": {},
   "outputs": [
    {
     "data": {
      "text/plain": [
       "<matplotlib.axes._subplots.AxesSubplot at 0x19393368220>"
      ]
     },
     "execution_count": 22,
     "metadata": {},
     "output_type": "execute_result"
    },
    {
     "data": {
      "image/png": "[encoded data removed]",
      "text/plain": [
       "<Figure size 432x288 with 1 Axes>"
      ]
     },
     "metadata": {
      "needs_background": "light"
     },
     "output_type": "display_data"
    }
   ],
   "source": [
    "sns.distplot(df4['Price_Index'])"
   ]
  },
  {
   "cell_type": "code",
   "execution_count": 23,
   "metadata": {},
   "outputs": [
    {
     "data": {
      "text/html": [
       "<div>\n",
       "<style scoped>\n",
       "    .dataframe tbody tr th:only-of-type {\n",
       "        vertical-align: middle;\n",
       "    }\n",
       "\n",
       "    .dataframe tbody tr th {\n",
       "        vertical-align: top;\n",
       "    }\n",
       "\n",
       "    .dataframe thead th {\n",
       "        text-align: right;\n",
       "    }\n",
       "</style>\n",
       "<table border=\"1\" class=\"dataframe\">\n",
       "  <thead>\n",
       "    <tr style=\"text-align: right;\">\n",
       "      <th></th>\n",
       "      <th>Year</th>\n",
       "      <th>Production_Value</th>\n",
       "      <th>Price_Value</th>\n",
       "      <th>Import_Q</th>\n",
       "      <th>Export_Q</th>\n",
       "      <th>Temp_Change_Value</th>\n",
       "    </tr>\n",
       "    <tr>\n",
       "      <th>Price_Unit</th>\n",
       "      <th></th>\n",
       "      <th></th>\n",
       "      <th></th>\n",
       "      <th></th>\n",
       "      <th></th>\n",
       "      <th></th>\n",
       "    </tr>\n",
       "  </thead>\n",
       "  <tbody>\n",
       "    <tr>\n",
       "      <th>PriceIndex</th>\n",
       "      <td>2008.458884</td>\n",
       "      <td>3.265910e+06</td>\n",
       "      <td>74.348443</td>\n",
       "      <td>138364.098655</td>\n",
       "      <td>466814.770342</td>\n",
       "      <td>0.705770</td>\n",
       "    </tr>\n",
       "    <tr>\n",
       "      <th>USD</th>\n",
       "      <td>2008.571111</td>\n",
       "      <td>3.738432e+06</td>\n",
       "      <td>1503.273444</td>\n",
       "      <td>167184.933036</td>\n",
       "      <td>521968.620092</td>\n",
       "      <td>0.721932</td>\n",
       "    </tr>\n",
       "  </tbody>\n",
       "</table>\n",
       "</div>"
      ],
      "text/plain": [
       "                   Year  Production_Value  Price_Value       Import_Q  \\\n",
       "Price_Unit                                                              \n",
       "PriceIndex  2008.458884      3.265910e+06    74.348443  138364.098655   \n",
       "USD         2008.571111      3.738432e+06  1503.273444  167184.933036   \n",
       "\n",
       "                 Export_Q  Temp_Change_Value  \n",
       "Price_Unit                                    \n",
       "PriceIndex  466814.770342           0.705770  \n",
       "USD         521968.620092           0.721932  "
      ]
     },
     "execution_count": 23,
     "metadata": {},
     "output_type": "execute_result"
    }
   ],
   "source": [
    "df.groupby('Price_Unit').mean()"
   ]
  },
  {
   "cell_type": "code",
   "execution_count": 24,
   "metadata": {},
   "outputs": [
    {
     "data": {
      "text/html": [
       "<div>\n",
       "<style scoped>\n",
       "    .dataframe tbody tr th:only-of-type {\n",
       "        vertical-align: middle;\n",
       "    }\n",
       "\n",
       "    .dataframe tbody tr th {\n",
       "        vertical-align: top;\n",
       "    }\n",
       "\n",
       "    .dataframe thead th {\n",
       "        text-align: right;\n",
       "    }\n",
       "</style>\n",
       "<table border=\"1\" class=\"dataframe\">\n",
       "  <thead>\n",
       "    <tr style=\"text-align: right;\">\n",
       "      <th></th>\n",
       "      <th>Year</th>\n",
       "      <th>Production_Value</th>\n",
       "      <th>Price_Value</th>\n",
       "      <th>Import_Q</th>\n",
       "      <th>Export_Q</th>\n",
       "      <th>Temp_Change_Value</th>\n",
       "    </tr>\n",
       "    <tr>\n",
       "      <th>Domain</th>\n",
       "      <th></th>\n",
       "      <th></th>\n",
       "      <th></th>\n",
       "      <th></th>\n",
       "      <th></th>\n",
       "      <th></th>\n",
       "    </tr>\n",
       "  </thead>\n",
       "  <tbody>\n",
       "    <tr>\n",
       "      <th>Crops</th>\n",
       "      <td>2008.684793</td>\n",
       "      <td>6.806606e+06</td>\n",
       "      <td>205.398700</td>\n",
       "      <td>295377.315989</td>\n",
       "      <td>1.030499e+06</td>\n",
       "      <td>0.712968</td>\n",
       "    </tr>\n",
       "    <tr>\n",
       "      <th>Livestock Primary</th>\n",
       "      <td>2008.336449</td>\n",
       "      <td>3.632885e+05</td>\n",
       "      <td>1046.177647</td>\n",
       "      <td>19299.100255</td>\n",
       "      <td>9.208973e+03</td>\n",
       "      <td>0.711804</td>\n",
       "    </tr>\n",
       "  </tbody>\n",
       "</table>\n",
       "</div>"
      ],
      "text/plain": [
       "                          Year  Production_Value  Price_Value       Import_Q  \\\n",
       "Domain                                                                         \n",
       "Crops              2008.684793      6.806606e+06   205.398700  295377.315989   \n",
       "Livestock Primary  2008.336449      3.632885e+05  1046.177647   19299.100255   \n",
       "\n",
       "                       Export_Q  Temp_Change_Value  \n",
       "Domain                                              \n",
       "Crops              1.030499e+06           0.712968  \n",
       "Livestock Primary  9.208973e+03           0.711804  "
      ]
     },
     "execution_count": 24,
     "metadata": {},
     "output_type": "execute_result"
    }
   ],
   "source": [
    "df.groupby('Domain').mean()"
   ]
  },
  {
   "cell_type": "code",
   "execution_count": 25,
   "metadata": {},
   "outputs": [
    {
     "data": {
      "text/html": [
       "<div>\n",
       "<style scoped>\n",
       "    .dataframe tbody tr th:only-of-type {\n",
       "        vertical-align: middle;\n",
       "    }\n",
       "\n",
       "    .dataframe tbody tr th {\n",
       "        vertical-align: top;\n",
       "    }\n",
       "\n",
       "    .dataframe thead th {\n",
       "        text-align: right;\n",
       "    }\n",
       "</style>\n",
       "<table border=\"1\" class=\"dataframe\">\n",
       "  <thead>\n",
       "    <tr style=\"text-align: right;\">\n",
       "      <th>col_0</th>\n",
       "      <th>Avg_PriceIndex</th>\n",
       "    </tr>\n",
       "    <tr>\n",
       "      <th>Item</th>\n",
       "      <th></th>\n",
       "    </tr>\n",
       "  </thead>\n",
       "  <tbody>\n",
       "    <tr>\n",
       "      <th>Onions, shallots, green</th>\n",
       "      <td>109.04</td>\n",
       "    </tr>\n",
       "    <tr>\n",
       "      <th>Oil palm fruit</th>\n",
       "      <td>87.60</td>\n",
       "    </tr>\n",
       "    <tr>\n",
       "      <th>Cassava</th>\n",
       "      <td>87.14</td>\n",
       "    </tr>\n",
       "    <tr>\n",
       "      <th>Eggs, hen, in shell</th>\n",
       "      <td>85.95</td>\n",
       "    </tr>\n",
       "    <tr>\n",
       "      <th>Meat, chicken</th>\n",
       "      <td>83.79</td>\n",
       "    </tr>\n",
       "    <tr>\n",
       "      <th>Meat, goat</th>\n",
       "      <td>76.25</td>\n",
       "    </tr>\n",
       "    <tr>\n",
       "      <th>Meat, duck</th>\n",
       "      <td>75.34</td>\n",
       "    </tr>\n",
       "    <tr>\n",
       "      <th>Maize</th>\n",
       "      <td>74.69</td>\n",
       "    </tr>\n",
       "    <tr>\n",
       "      <th>Milk, whole fresh cow</th>\n",
       "      <td>73.31</td>\n",
       "    </tr>\n",
       "    <tr>\n",
       "      <th>Meat, sheep</th>\n",
       "      <td>71.43</td>\n",
       "    </tr>\n",
       "    <tr>\n",
       "      <th>Onions, dry</th>\n",
       "      <td>71.12</td>\n",
       "    </tr>\n",
       "    <tr>\n",
       "      <th>Meat, cattle</th>\n",
       "      <td>69.31</td>\n",
       "    </tr>\n",
       "    <tr>\n",
       "      <th>Rice, paddy</th>\n",
       "      <td>66.54</td>\n",
       "    </tr>\n",
       "    <tr>\n",
       "      <th>Bananas</th>\n",
       "      <td>64.60</td>\n",
       "    </tr>\n",
       "    <tr>\n",
       "      <th>Garlic</th>\n",
       "      <td>57.83</td>\n",
       "    </tr>\n",
       "  </tbody>\n",
       "</table>\n",
       "</div>"
      ],
      "text/plain": [
       "col_0                    Avg_PriceIndex\n",
       "Item                                   \n",
       "Onions, shallots, green          109.04\n",
       "Oil palm fruit                    87.60\n",
       "Cassava                           87.14\n",
       "Eggs, hen, in shell               85.95\n",
       "Meat, chicken                     83.79\n",
       "Meat, goat                        76.25\n",
       "Meat, duck                        75.34\n",
       "Maize                             74.69\n",
       "Milk, whole fresh cow             73.31\n",
       "Meat, sheep                       71.43\n",
       "Onions, dry                       71.12\n",
       "Meat, cattle                      69.31\n",
       "Rice, paddy                       66.54\n",
       "Bananas                           64.60\n",
       "Garlic                            57.83"
      ]
     },
     "execution_count": 25,
     "metadata": {},
     "output_type": "execute_result"
    }
   ],
   "source": [
    "df_a1=(pd.crosstab(index=df4['Item'], columns='Avg_PriceIndex', values=df4['Price_Index'], aggfunc='median')).round(2)\n",
    "\n",
    "df_a1.sort_values(by='Avg_PriceIndex', ascending=False)"
   ]
  },
  {
   "cell_type": "code",
   "execution_count": 26,
   "metadata": {},
   "outputs": [
    {
     "data": {
      "text/html": [
       "<div>\n",
       "<style scoped>\n",
       "    .dataframe tbody tr th:only-of-type {\n",
       "        vertical-align: middle;\n",
       "    }\n",
       "\n",
       "    .dataframe tbody tr th {\n",
       "        vertical-align: top;\n",
       "    }\n",
       "\n",
       "    .dataframe thead th {\n",
       "        text-align: right;\n",
       "    }\n",
       "</style>\n",
       "<table border=\"1\" class=\"dataframe\">\n",
       "  <thead>\n",
       "    <tr style=\"text-align: right;\">\n",
       "      <th>col_0</th>\n",
       "      <th>Avg_PriceValue</th>\n",
       "    </tr>\n",
       "    <tr>\n",
       "      <th>Item</th>\n",
       "      <th></th>\n",
       "    </tr>\n",
       "  </thead>\n",
       "  <tbody>\n",
       "    <tr>\n",
       "      <th>Meat, goat</th>\n",
       "      <td>6247.79</td>\n",
       "    </tr>\n",
       "    <tr>\n",
       "      <th>Meat, sheep</th>\n",
       "      <td>5300.12</td>\n",
       "    </tr>\n",
       "    <tr>\n",
       "      <th>Meat, cattle</th>\n",
       "      <td>4572.99</td>\n",
       "    </tr>\n",
       "    <tr>\n",
       "      <th>Meat, chicken</th>\n",
       "      <td>2299.11</td>\n",
       "    </tr>\n",
       "    <tr>\n",
       "      <th>Meat, duck</th>\n",
       "      <td>2172.54</td>\n",
       "    </tr>\n",
       "    <tr>\n",
       "      <th>Eggs, hen, in shell</th>\n",
       "      <td>1526.39</td>\n",
       "    </tr>\n",
       "    <tr>\n",
       "      <th>Garlic</th>\n",
       "      <td>1356.14</td>\n",
       "    </tr>\n",
       "    <tr>\n",
       "      <th>Onions, shallots, green</th>\n",
       "      <td>630.73</td>\n",
       "    </tr>\n",
       "    <tr>\n",
       "      <th>Milk, whole fresh cow</th>\n",
       "      <td>605.87</td>\n",
       "    </tr>\n",
       "    <tr>\n",
       "      <th>Onions, dry</th>\n",
       "      <td>565.72</td>\n",
       "    </tr>\n",
       "    <tr>\n",
       "      <th>Bananas</th>\n",
       "      <td>294.00</td>\n",
       "    </tr>\n",
       "    <tr>\n",
       "      <th>Rice, paddy</th>\n",
       "      <td>276.14</td>\n",
       "    </tr>\n",
       "    <tr>\n",
       "      <th>Maize</th>\n",
       "      <td>201.70</td>\n",
       "    </tr>\n",
       "    <tr>\n",
       "      <th>Cassava</th>\n",
       "      <td>133.80</td>\n",
       "    </tr>\n",
       "    <tr>\n",
       "      <th>Oil palm fruit</th>\n",
       "      <td>95.33</td>\n",
       "    </tr>\n",
       "  </tbody>\n",
       "</table>\n",
       "</div>"
      ],
      "text/plain": [
       "col_0                    Avg_PriceValue\n",
       "Item                                   \n",
       "Meat, goat                      6247.79\n",
       "Meat, sheep                     5300.12\n",
       "Meat, cattle                    4572.99\n",
       "Meat, chicken                   2299.11\n",
       "Meat, duck                      2172.54\n",
       "Eggs, hen, in shell             1526.39\n",
       "Garlic                          1356.14\n",
       "Onions, shallots, green          630.73\n",
       "Milk, whole fresh cow            605.87\n",
       "Onions, dry                      565.72\n",
       "Bananas                          294.00\n",
       "Rice, paddy                      276.14\n",
       "Maize                            201.70\n",
       "Cassava                          133.80\n",
       "Oil palm fruit                    95.33"
      ]
     },
     "execution_count": 26,
     "metadata": {},
     "output_type": "execute_result"
    }
   ],
   "source": [
    "df_a2=(pd.crosstab(index=df4['Item'], columns='Avg_PriceValue', values=df4['Price_Value'], aggfunc='mean')).round(2)\n",
    "\n",
    "df_a2.sort_values(by='Avg_PriceValue', ascending=False)"
   ]
  },
  {
   "cell_type": "code",
   "execution_count": 27,
   "metadata": {},
   "outputs": [
    {
     "name": "stdout",
     "output_type": "stream",
     "text": [
      "<class 'pandas.core.frame.DataFrame'>\n",
      "Int64Index: 886 entries, 0 to 885\n",
      "Data columns (total 16 columns):\n",
      " #   Column             Non-Null Count  Dtype  \n",
      "---  ------             --------------  -----  \n",
      " 0   Domain             886 non-null    object \n",
      " 1   Area               886 non-null    object \n",
      " 2   Element            886 non-null    object \n",
      " 3   Item               886 non-null    object \n",
      " 4   Year               886 non-null    int64  \n",
      " 5   Prod_Unit          886 non-null    object \n",
      " 6   Production_Value   886 non-null    float64\n",
      " 7   Price_Index        886 non-null    float64\n",
      " 8   Import_Unit        886 non-null    object \n",
      " 9   Import_Q           886 non-null    float64\n",
      " 10  Export_Unit        886 non-null    object \n",
      " 11  Export_Q           886 non-null    float64\n",
      " 12  Temp_Change_Unit   886 non-null    object \n",
      " 13  Temp_Change_Value  886 non-null    float64\n",
      " 14  Price_Unit         886 non-null    object \n",
      " 15  Price_Value        886 non-null    float64\n",
      "dtypes: float64(6), int64(1), object(9)\n",
      "memory usage: 157.7+ KB\n"
     ]
    }
   ],
   "source": [
    "df4.info()"
   ]
  },
  {
   "cell_type": "code",
   "execution_count": 28,
   "metadata": {},
   "outputs": [
    {
     "data": {
      "text/html": [
       "<div>\n",
       "<style scoped>\n",
       "    .dataframe tbody tr th:only-of-type {\n",
       "        vertical-align: middle;\n",
       "    }\n",
       "\n",
       "    .dataframe tbody tr th {\n",
       "        vertical-align: top;\n",
       "    }\n",
       "\n",
       "    .dataframe thead th {\n",
       "        text-align: right;\n",
       "    }\n",
       "</style>\n",
       "<table border=\"1\" class=\"dataframe\">\n",
       "  <thead>\n",
       "    <tr style=\"text-align: right;\">\n",
       "      <th></th>\n",
       "      <th>Domain</th>\n",
       "      <th>Area</th>\n",
       "      <th>Element</th>\n",
       "      <th>Item</th>\n",
       "      <th>Year</th>\n",
       "      <th>Prod_Unit</th>\n",
       "      <th>Production_Value</th>\n",
       "      <th>Price_Index</th>\n",
       "      <th>Import_Unit</th>\n",
       "      <th>Import_Q</th>\n",
       "      <th>Export_Unit</th>\n",
       "      <th>Export_Q</th>\n",
       "      <th>Temp_Change_Unit</th>\n",
       "      <th>Temp_Change_Value</th>\n",
       "      <th>Price_Unit</th>\n",
       "      <th>Price_Value</th>\n",
       "    </tr>\n",
       "  </thead>\n",
       "  <tbody>\n",
       "    <tr>\n",
       "      <th>0</th>\n",
       "      <td>Crops</td>\n",
       "      <td>Brunei Darussalam</td>\n",
       "      <td>Production</td>\n",
       "      <td>Bananas</td>\n",
       "      <td>2000</td>\n",
       "      <td>tonnes</td>\n",
       "      <td>542.0</td>\n",
       "      <td>74.43</td>\n",
       "      <td>tonnes</td>\n",
       "      <td>50.0</td>\n",
       "      <td>tonnes</td>\n",
       "      <td>0.0</td>\n",
       "      <td>Â°C</td>\n",
       "      <td>0.448</td>\n",
       "      <td>USD</td>\n",
       "      <td>823.7</td>\n",
       "    </tr>\n",
       "    <tr>\n",
       "      <th>1</th>\n",
       "      <td>Livestock Primary</td>\n",
       "      <td>Brunei Darussalam</td>\n",
       "      <td>Production</td>\n",
       "      <td>Eggs, hen, in shell</td>\n",
       "      <td>2000</td>\n",
       "      <td>tonnes</td>\n",
       "      <td>4800.0</td>\n",
       "      <td>77.12</td>\n",
       "      <td>tonnes</td>\n",
       "      <td>600.0</td>\n",
       "      <td>tonnes</td>\n",
       "      <td>0.0</td>\n",
       "      <td>Â°C</td>\n",
       "      <td>0.448</td>\n",
       "      <td>USD</td>\n",
       "      <td>1628.2</td>\n",
       "    </tr>\n",
       "    <tr>\n",
       "      <th>2</th>\n",
       "      <td>Livestock Primary</td>\n",
       "      <td>Brunei Darussalam</td>\n",
       "      <td>Production</td>\n",
       "      <td>Meat, cattle</td>\n",
       "      <td>2000</td>\n",
       "      <td>tonnes</td>\n",
       "      <td>3210.0</td>\n",
       "      <td>41.24</td>\n",
       "      <td>tonnes</td>\n",
       "      <td>20.0</td>\n",
       "      <td>tonnes</td>\n",
       "      <td>0.0</td>\n",
       "      <td>Â°C</td>\n",
       "      <td>0.448</td>\n",
       "      <td>USD</td>\n",
       "      <td>3816.8</td>\n",
       "    </tr>\n",
       "    <tr>\n",
       "      <th>3</th>\n",
       "      <td>Livestock Primary</td>\n",
       "      <td>Brunei Darussalam</td>\n",
       "      <td>Production</td>\n",
       "      <td>Meat, chicken</td>\n",
       "      <td>2000</td>\n",
       "      <td>tonnes</td>\n",
       "      <td>11256.0</td>\n",
       "      <td>95.22</td>\n",
       "      <td>tonnes</td>\n",
       "      <td>920.0</td>\n",
       "      <td>tonnes</td>\n",
       "      <td>17.0</td>\n",
       "      <td>Â°C</td>\n",
       "      <td>0.448</td>\n",
       "      <td>USD</td>\n",
       "      <td>2807.5</td>\n",
       "    </tr>\n",
       "    <tr>\n",
       "      <th>4</th>\n",
       "      <td>Livestock Primary</td>\n",
       "      <td>Brunei Darussalam</td>\n",
       "      <td>Production</td>\n",
       "      <td>Milk, whole fresh cow</td>\n",
       "      <td>2000</td>\n",
       "      <td>tonnes</td>\n",
       "      <td>95.0</td>\n",
       "      <td>67.22</td>\n",
       "      <td>tonnes</td>\n",
       "      <td>1100.0</td>\n",
       "      <td>tonnes</td>\n",
       "      <td>0.0</td>\n",
       "      <td>Â°C</td>\n",
       "      <td>0.448</td>\n",
       "      <td>USD</td>\n",
       "      <td>1450.1</td>\n",
       "    </tr>\n",
       "  </tbody>\n",
       "</table>\n",
       "</div>"
      ],
      "text/plain": [
       "              Domain               Area     Element                   Item  \\\n",
       "0              Crops  Brunei Darussalam  Production                Bananas   \n",
       "1  Livestock Primary  Brunei Darussalam  Production    Eggs, hen, in shell   \n",
       "2  Livestock Primary  Brunei Darussalam  Production           Meat, cattle   \n",
       "3  Livestock Primary  Brunei Darussalam  Production          Meat, chicken   \n",
       "4  Livestock Primary  Brunei Darussalam  Production  Milk, whole fresh cow   \n",
       "\n",
       "   Year Prod_Unit  Production_Value  Price_Index Import_Unit  Import_Q  \\\n",
       "0  2000    tonnes             542.0        74.43      tonnes      50.0   \n",
       "1  2000    tonnes            4800.0        77.12      tonnes     600.0   \n",
       "2  2000    tonnes            3210.0        41.24      tonnes      20.0   \n",
       "3  2000    tonnes           11256.0        95.22      tonnes     920.0   \n",
       "4  2000    tonnes              95.0        67.22      tonnes    1100.0   \n",
       "\n",
       "  Export_Unit  Export_Q Temp_Change_Unit  Temp_Change_Value Price_Unit  \\\n",
       "0      tonnes       0.0              Â°C              0.448        USD   \n",
       "1      tonnes       0.0              Â°C              0.448        USD   \n",
       "2      tonnes       0.0              Â°C              0.448        USD   \n",
       "3      tonnes      17.0              Â°C              0.448        USD   \n",
       "4      tonnes       0.0              Â°C              0.448        USD   \n",
       "\n",
       "   Price_Value  \n",
       "0        823.7  \n",
       "1       1628.2  \n",
       "2       3816.8  \n",
       "3       2807.5  \n",
       "4       1450.1  "
      ]
     },
     "execution_count": 28,
     "metadata": {},
     "output_type": "execute_result"
    }
   ],
   "source": [
    "df4.head()"
   ]
  },
  {
   "cell_type": "code",
   "execution_count": 29,
   "metadata": {},
   "outputs": [
    {
     "data": {
      "text/html": [
       "<div>\n",
       "<style scoped>\n",
       "    .dataframe tbody tr th:only-of-type {\n",
       "        vertical-align: middle;\n",
       "    }\n",
       "\n",
       "    .dataframe tbody tr th {\n",
       "        vertical-align: top;\n",
       "    }\n",
       "\n",
       "    .dataframe thead th {\n",
       "        text-align: right;\n",
       "    }\n",
       "</style>\n",
       "<table border=\"1\" class=\"dataframe\">\n",
       "  <thead>\n",
       "    <tr style=\"text-align: right;\">\n",
       "      <th></th>\n",
       "      <th>Year</th>\n",
       "      <th>Production_Value</th>\n",
       "      <th>Price_Index</th>\n",
       "      <th>Import_Q</th>\n",
       "      <th>Export_Q</th>\n",
       "      <th>Temp_Change_Value</th>\n",
       "      <th>Price_Value</th>\n",
       "    </tr>\n",
       "  </thead>\n",
       "  <tbody>\n",
       "    <tr>\n",
       "      <th>0</th>\n",
       "      <td>2000</td>\n",
       "      <td>542.0</td>\n",
       "      <td>74.43</td>\n",
       "      <td>50.0</td>\n",
       "      <td>0.0</td>\n",
       "      <td>0.448</td>\n",
       "      <td>823.7</td>\n",
       "    </tr>\n",
       "    <tr>\n",
       "      <th>1</th>\n",
       "      <td>2000</td>\n",
       "      <td>4800.0</td>\n",
       "      <td>77.12</td>\n",
       "      <td>600.0</td>\n",
       "      <td>0.0</td>\n",
       "      <td>0.448</td>\n",
       "      <td>1628.2</td>\n",
       "    </tr>\n",
       "    <tr>\n",
       "      <th>2</th>\n",
       "      <td>2000</td>\n",
       "      <td>3210.0</td>\n",
       "      <td>41.24</td>\n",
       "      <td>20.0</td>\n",
       "      <td>0.0</td>\n",
       "      <td>0.448</td>\n",
       "      <td>3816.8</td>\n",
       "    </tr>\n",
       "    <tr>\n",
       "      <th>3</th>\n",
       "      <td>2000</td>\n",
       "      <td>11256.0</td>\n",
       "      <td>95.22</td>\n",
       "      <td>920.0</td>\n",
       "      <td>17.0</td>\n",
       "      <td>0.448</td>\n",
       "      <td>2807.5</td>\n",
       "    </tr>\n",
       "    <tr>\n",
       "      <th>4</th>\n",
       "      <td>2000</td>\n",
       "      <td>95.0</td>\n",
       "      <td>67.22</td>\n",
       "      <td>1100.0</td>\n",
       "      <td>0.0</td>\n",
       "      <td>0.448</td>\n",
       "      <td>1450.1</td>\n",
       "    </tr>\n",
       "    <tr>\n",
       "      <th>...</th>\n",
       "      <td>...</td>\n",
       "      <td>...</td>\n",
       "      <td>...</td>\n",
       "      <td>...</td>\n",
       "      <td>...</td>\n",
       "      <td>...</td>\n",
       "      <td>...</td>\n",
       "    </tr>\n",
       "    <tr>\n",
       "      <th>881</th>\n",
       "      <td>2013</td>\n",
       "      <td>575752.0</td>\n",
       "      <td>101.28</td>\n",
       "      <td>115187.0</td>\n",
       "      <td>72.0</td>\n",
       "      <td>0.926</td>\n",
       "      <td>4515.7</td>\n",
       "    </tr>\n",
       "    <tr>\n",
       "      <th>882</th>\n",
       "      <td>2018</td>\n",
       "      <td>4874054.0</td>\n",
       "      <td>88.55</td>\n",
       "      <td>10377637.0</td>\n",
       "      <td>80999.0</td>\n",
       "      <td>0.904</td>\n",
       "      <td>263.0</td>\n",
       "    </tr>\n",
       "    <tr>\n",
       "      <th>883</th>\n",
       "      <td>2018</td>\n",
       "      <td>44046250.0</td>\n",
       "      <td>102.60</td>\n",
       "      <td>5124.0</td>\n",
       "      <td>2592.0</td>\n",
       "      <td>0.904</td>\n",
       "      <td>282.7</td>\n",
       "    </tr>\n",
       "    <tr>\n",
       "      <th>884</th>\n",
       "      <td>2018</td>\n",
       "      <td>582280.0</td>\n",
       "      <td>66.73</td>\n",
       "      <td>16.0</td>\n",
       "      <td>1653.0</td>\n",
       "      <td>0.904</td>\n",
       "      <td>1431.5</td>\n",
       "    </tr>\n",
       "    <tr>\n",
       "      <th>885</th>\n",
       "      <td>2018</td>\n",
       "      <td>25057.0</td>\n",
       "      <td>89.71</td>\n",
       "      <td>1328.0</td>\n",
       "      <td>0.0</td>\n",
       "      <td>0.969</td>\n",
       "      <td>3380.5</td>\n",
       "    </tr>\n",
       "  </tbody>\n",
       "</table>\n",
       "<p>886 rows × 7 columns</p>\n",
       "</div>"
      ],
      "text/plain": [
       "     Year  Production_Value  Price_Index    Import_Q  Export_Q  \\\n",
       "0    2000             542.0        74.43        50.0       0.0   \n",
       "1    2000            4800.0        77.12       600.0       0.0   \n",
       "2    2000            3210.0        41.24        20.0       0.0   \n",
       "3    2000           11256.0        95.22       920.0      17.0   \n",
       "4    2000              95.0        67.22      1100.0       0.0   \n",
       "..    ...               ...          ...         ...       ...   \n",
       "881  2013          575752.0       101.28    115187.0      72.0   \n",
       "882  2018         4874054.0        88.55  10377637.0   80999.0   \n",
       "883  2018        44046250.0       102.60      5124.0    2592.0   \n",
       "884  2018          582280.0        66.73        16.0    1653.0   \n",
       "885  2018           25057.0        89.71      1328.0       0.0   \n",
       "\n",
       "     Temp_Change_Value  Price_Value  \n",
       "0                0.448        823.7  \n",
       "1                0.448       1628.2  \n",
       "2                0.448       3816.8  \n",
       "3                0.448       2807.5  \n",
       "4                0.448       1450.1  \n",
       "..                 ...          ...  \n",
       "881              0.926       4515.7  \n",
       "882              0.904        263.0  \n",
       "883              0.904        282.7  \n",
       "884              0.904       1431.5  \n",
       "885              0.969       3380.5  \n",
       "\n",
       "[886 rows x 7 columns]"
      ]
     },
     "execution_count": 29,
     "metadata": {},
     "output_type": "execute_result"
    }
   ],
   "source": [
    "df4.drop(['Domain', 'Area','Element','Item','Prod_Unit','Import_Unit','Export_Unit','Temp_Change_Unit','Price_Unit'], axis=1, inplace=True)\n",
    "df4"
   ]
  },
  {
   "cell_type": "code",
   "execution_count": 30,
   "metadata": {},
   "outputs": [],
   "source": [
    "x = df4.drop(columns='Price_Value')\n",
    "y = df4['Price_Value']"
   ]
  },
  {
   "cell_type": "code",
   "execution_count": 31,
   "metadata": {},
   "outputs": [],
   "source": [
    "x_train_LR, x_test_LR, y_train_LR, y_test_LR = train_test_split(x, y, test_size = .20, random_state = 48)"
   ]
  },
  {
   "cell_type": "code",
   "execution_count": 32,
   "metadata": {},
   "outputs": [
    {
     "data": {
      "text/plain": [
       "(178, 6)"
      ]
     },
     "execution_count": 32,
     "metadata": {},
     "output_type": "execute_result"
    }
   ],
   "source": [
    "x_train_LR.shape\n",
    "\n",
    "x_test_LR.shape"
   ]
  },
  {
   "cell_type": "code",
   "execution_count": 33,
   "metadata": {},
   "outputs": [],
   "source": [
    "model_LR = LinearRegression()"
   ]
  },
  {
   "cell_type": "code",
   "execution_count": 34,
   "metadata": {},
   "outputs": [
    {
     "data": {
      "text/plain": [
       "LinearRegression()"
      ]
     },
     "execution_count": 34,
     "metadata": {},
     "output_type": "execute_result"
    }
   ],
   "source": [
    "model_LR.fit(x_train_LR, y_train_LR)"
   ]
  },
  {
   "cell_type": "code",
   "execution_count": 35,
   "metadata": {},
   "outputs": [
    {
     "data": {
      "text/plain": [
       "array([-789.82428761, 1593.29214136,  773.55361918,  940.51847507,\n",
       "       2244.7554289 , 2493.67295559, 1206.10412299, 1777.22097881,\n",
       "        546.11686164, 1182.66469126, 1978.97564203, 1137.53988395,\n",
       "       1677.46892959, 1512.32720624, 2297.09889275, -875.50726845,\n",
       "       2120.54516243,  787.05706682, 1797.28511323, 1616.29499001,\n",
       "       1036.84366543, 2014.02816098, 1597.08495905, 2107.43260983,\n",
       "       1133.97700625, 1665.54670352, 1738.94709789, 2009.39455002,\n",
       "       1724.69994394, 1426.38848818, 1212.82417551, 1025.72010492,\n",
       "       2140.09643642, 2453.19979863, 1812.79004088, 1822.35858406,\n",
       "       1219.34770835, 1061.06842095, 2197.66053166, 2148.41354902,\n",
       "       1498.32513669, 1805.8370602 ,  939.73694369, 2027.82873141,\n",
       "       1822.79021408, 1900.91760365, 2377.0810055 , 1341.84070456,\n",
       "       2350.49972023, 1168.8243961 ,  951.51014576, 2397.03353276,\n",
       "       1877.39106696, 1492.82403777, 1772.35112977, 1834.15814937,\n",
       "       1318.74504331, 1522.85624673, 2120.45274101, 1236.33394971,\n",
       "       1969.15430454, 2036.75646953, 1527.79933336, -571.42828573,\n",
       "       2358.73591036, 2051.66213086, 1838.09713743, 2437.20097771,\n",
       "       1177.46582718, -351.46310166, 1981.0998896 , 1340.46415061,\n",
       "       1655.58959745, 1694.22889767, 1884.46029798, 1333.34078842,\n",
       "        467.59700112, 1175.57308168, -308.92382971, 1391.23910338,\n",
       "       1234.62038676, 2331.6643231 , 1962.5762482 , 1349.61326093,\n",
       "       1073.45228235, 1626.65947072, 1875.00730991, 2159.943115  ,\n",
       "        507.63360784, 1692.43735649, 1673.15603958, 1774.15520275,\n",
       "       2096.80628038, 1766.359165  , 1226.83626213, 1079.54889662,\n",
       "       1446.28704307, 1131.79420152, 1435.98594663, 1906.80031743,\n",
       "       1407.50293412, 2093.21131161, 1683.69321246,  965.33156418,\n",
       "       1610.64099627, 1345.52834736, 1878.78812073, 1981.43742613,\n",
       "       1901.82044049, 1481.49775633,  749.59299355, 2503.98125577,\n",
       "       1816.15010898, 1641.48505212, 1602.75117513, 2041.30019593,\n",
       "       1427.34546602, 1857.86156454, 1765.41802224, 1470.43742058,\n",
       "       1280.89292155, 1563.24246026, 1588.72786282, 1777.46338282,\n",
       "       1440.56191651, 2122.42303087, 1859.3479143 , 2109.54074904,\n",
       "       2370.61179364, 2111.42140661, 2241.27675571, 2276.12064293,\n",
       "       1289.91247762, 2099.03269338, 1217.17527076, 1766.72231594,\n",
       "       2109.8031353 , 1115.01007889, 2011.7081355 , 1636.67511603,\n",
       "       2264.2925084 , 1621.89433018, 2099.09035609, 1658.38565218,\n",
       "       1808.28451595,  942.79184799,  838.7109339 , 2279.4096862 ,\n",
       "       2159.80372604, 2146.47184656, 1625.99652536, 1795.44177207,\n",
       "       1359.31347875, 2019.45144017, 2080.42993775, 1680.14475479,\n",
       "       2208.89145851, 1187.41576784, 1105.5875158 , 1658.09395757,\n",
       "       1435.23761616, 1291.55156873, -275.40652138, -372.84009437,\n",
       "       1294.55464447, 1273.8853058 , 1736.22246037, 1397.87870073,\n",
       "       1764.85893376, 1119.70768174, 1248.67742292, -359.92740259,\n",
       "       -224.60835983, 1580.46571503, 1685.78963025,  -72.45153172,\n",
       "       1196.57214835, 1304.34270279])"
      ]
     },
     "execution_count": 35,
     "metadata": {},
     "output_type": "execute_result"
    }
   ],
   "source": [
    "model_LR.predict(x_test_LR)"
   ]
  },
  {
   "cell_type": "code",
   "execution_count": 36,
   "metadata": {},
   "outputs": [
    {
     "data": {
      "text/plain": [
       "-124951.77128921116"
      ]
     },
     "execution_count": 36,
     "metadata": {},
     "output_type": "execute_result"
    }
   ],
   "source": [
    "model_LR.intercept_"
   ]
  },
  {
   "cell_type": "code",
   "execution_count": 37,
   "metadata": {},
   "outputs": [
    {
     "data": {
      "text/plain": [
       "array([ 6.29939808e+01, -3.64022574e-05,  7.23740922e+00, -3.34766158e-04,\n",
       "        9.06208804e-05, -4.52552180e+02])"
      ]
     },
     "execution_count": 37,
     "metadata": {},
     "output_type": "execute_result"
    }
   ],
   "source": [
    "model_LR.coef_"
   ]
  },
  {
   "cell_type": "code",
   "execution_count": 38,
   "metadata": {},
   "outputs": [
    {
     "data": {
      "text/html": [
       "<div>\n",
       "<style scoped>\n",
       "    .dataframe tbody tr th:only-of-type {\n",
       "        vertical-align: middle;\n",
       "    }\n",
       "\n",
       "    .dataframe tbody tr th {\n",
       "        vertical-align: top;\n",
       "    }\n",
       "\n",
       "    .dataframe thead th {\n",
       "        text-align: right;\n",
       "    }\n",
       "</style>\n",
       "<table border=\"1\" class=\"dataframe\">\n",
       "  <thead>\n",
       "    <tr style=\"text-align: right;\">\n",
       "      <th></th>\n",
       "      <th>Coefficient</th>\n",
       "    </tr>\n",
       "  </thead>\n",
       "  <tbody>\n",
       "    <tr>\n",
       "      <th>Year</th>\n",
       "      <td>62.993981</td>\n",
       "    </tr>\n",
       "    <tr>\n",
       "      <th>Production_Value</th>\n",
       "      <td>-0.000036</td>\n",
       "    </tr>\n",
       "    <tr>\n",
       "      <th>Price_Index</th>\n",
       "      <td>7.237409</td>\n",
       "    </tr>\n",
       "    <tr>\n",
       "      <th>Import_Q</th>\n",
       "      <td>-0.000335</td>\n",
       "    </tr>\n",
       "    <tr>\n",
       "      <th>Export_Q</th>\n",
       "      <td>0.000091</td>\n",
       "    </tr>\n",
       "    <tr>\n",
       "      <th>Temp_Change_Value</th>\n",
       "      <td>-452.552180</td>\n",
       "    </tr>\n",
       "  </tbody>\n",
       "</table>\n",
       "</div>"
      ],
      "text/plain": [
       "                   Coefficient\n",
       "Year                 62.993981\n",
       "Production_Value     -0.000036\n",
       "Price_Index           7.237409\n",
       "Import_Q             -0.000335\n",
       "Export_Q              0.000091\n",
       "Temp_Change_Value  -452.552180"
      ]
     },
     "execution_count": 38,
     "metadata": {},
     "output_type": "execute_result"
    }
   ],
   "source": [
    "pd.DataFrame(index= x_train_LR.columns, data = model_LR.coef_, columns=['Coefficient'])"
   ]
  },
  {
   "cell_type": "code",
   "execution_count": 39,
   "metadata": {},
   "outputs": [],
   "source": [
    "pred_train_LR = model_LR.predict(x_train_LR) ### Data Prediksi Model (Training)\n",
    "\n",
    "MAE_train_LR = median_absolute_error(y_train_LR, pred_train_LR)\n",
    "\n",
    "MSE_train_LR = mean_squared_error(y_train_LR, pred_train_LR)\n",
    "\n",
    "RMSE_train_LR = np.sqrt(MSE_train_LR)\n",
    "\n",
    "R2_train_LR = r2_score(y_train_LR, pred_train_LR)"
   ]
  },
  {
   "cell_type": "code",
   "execution_count": 40,
   "metadata": {},
   "outputs": [
    {
     "name": "stdout",
     "output_type": "stream",
     "text": [
      "Hasil Evaluasi Data Training \n",
      "Nilai MAE :  977.9756252040651\n",
      "Nilai MSE :  2918560.872401043\n",
      "Nilai RMSE :  1708.3796043037516\n",
      "Nilai R2 :  0.12885304630525873\n"
     ]
    }
   ],
   "source": [
    "print(\"Hasil Evaluasi Data Training \")\n",
    "print(\"Nilai MAE : \", MAE_train_LR)\n",
    "print(\"Nilai MSE : \", MSE_train_LR)\n",
    "print(\"Nilai RMSE : \", RMSE_train_LR)\n",
    "print(\"Nilai R2 : \", R2_train_LR)"
   ]
  },
  {
   "cell_type": "code",
   "execution_count": 41,
   "metadata": {},
   "outputs": [],
   "source": [
    "pred_test_LR = model_LR.predict(x_test_LR) ### Data Prediksi Model (Training)\n",
    "\n",
    "MAE_test_LR = median_absolute_error(y_test_LR, pred_test_LR)\n",
    "\n",
    "MSE_test_LR = mean_squared_error(y_test_LR, pred_test_LR)\n",
    "\n",
    "RMSE_test_LR = np.sqrt(MSE_test_LR)\n",
    "\n",
    "R2_test_LR = r2_score(y_test_LR, pred_test_LR)"
   ]
  },
  {
   "cell_type": "code",
   "execution_count": 42,
   "metadata": {},
   "outputs": [
    {
     "name": "stdout",
     "output_type": "stream",
     "text": [
      "Hasil Evaluasi Data Training \n",
      "Nilai MAE :  835.0682089181414\n",
      "Nilai MSE :  1836057.1503253176\n",
      "Nilai RMSE :  1355.0118635367432\n",
      "Nilai R2 :  0.09564794749297678\n"
     ]
    }
   ],
   "source": [
    "print(\"Hasil Evaluasi Data Training \")\n",
    "print(\"Nilai MAE : \", MAE_test_LR)\n",
    "print(\"Nilai MSE : \", MSE_test_LR)\n",
    "print(\"Nilai RMSE : \", RMSE_test_LR)\n",
    "print(\"Nilai R2 : \", R2_test_LR)"
   ]
  },
  {
   "cell_type": "code",
   "execution_count": 43,
   "metadata": {},
   "outputs": [
    {
     "data": {
      "text/html": [
       "<div>\n",
       "<style scoped>\n",
       "    .dataframe tbody tr th:only-of-type {\n",
       "        vertical-align: middle;\n",
       "    }\n",
       "\n",
       "    .dataframe tbody tr th {\n",
       "        vertical-align: top;\n",
       "    }\n",
       "\n",
       "    .dataframe thead th {\n",
       "        text-align: right;\n",
       "    }\n",
       "</style>\n",
       "<table border=\"1\" class=\"dataframe\">\n",
       "  <thead>\n",
       "    <tr style=\"text-align: right;\">\n",
       "      <th></th>\n",
       "      <th>Domain</th>\n",
       "      <th>Area</th>\n",
       "      <th>Element</th>\n",
       "      <th>Item</th>\n",
       "      <th>Year</th>\n",
       "      <th>Prod_Unit</th>\n",
       "      <th>Production_Value</th>\n",
       "      <th>Price_Index</th>\n",
       "      <th>Import_Unit</th>\n",
       "      <th>Import_Q</th>\n",
       "      <th>Export_Unit</th>\n",
       "      <th>Export_Q</th>\n",
       "      <th>Temp_Change_Unit</th>\n",
       "      <th>Temp_Change_Value</th>\n",
       "      <th>Price_Unit</th>\n",
       "      <th>Price_Value</th>\n",
       "    </tr>\n",
       "  </thead>\n",
       "  <tbody>\n",
       "    <tr>\n",
       "      <th>0</th>\n",
       "      <td>Crops</td>\n",
       "      <td>Brunei Darussalam</td>\n",
       "      <td>Production</td>\n",
       "      <td>Bananas</td>\n",
       "      <td>2000</td>\n",
       "      <td>tonnes</td>\n",
       "      <td>542.0</td>\n",
       "      <td>74.43</td>\n",
       "      <td>tonnes</td>\n",
       "      <td>50.0</td>\n",
       "      <td>tonnes</td>\n",
       "      <td>0.0</td>\n",
       "      <td>Â°C</td>\n",
       "      <td>0.448</td>\n",
       "      <td>USD</td>\n",
       "      <td>823.7</td>\n",
       "    </tr>\n",
       "    <tr>\n",
       "      <th>1</th>\n",
       "      <td>Livestock Primary</td>\n",
       "      <td>Brunei Darussalam</td>\n",
       "      <td>Production</td>\n",
       "      <td>Eggs, hen, in shell</td>\n",
       "      <td>2000</td>\n",
       "      <td>tonnes</td>\n",
       "      <td>4800.0</td>\n",
       "      <td>77.12</td>\n",
       "      <td>tonnes</td>\n",
       "      <td>600.0</td>\n",
       "      <td>tonnes</td>\n",
       "      <td>0.0</td>\n",
       "      <td>Â°C</td>\n",
       "      <td>0.448</td>\n",
       "      <td>USD</td>\n",
       "      <td>1628.2</td>\n",
       "    </tr>\n",
       "    <tr>\n",
       "      <th>2</th>\n",
       "      <td>Livestock Primary</td>\n",
       "      <td>Brunei Darussalam</td>\n",
       "      <td>Production</td>\n",
       "      <td>Meat, cattle</td>\n",
       "      <td>2000</td>\n",
       "      <td>tonnes</td>\n",
       "      <td>3210.0</td>\n",
       "      <td>41.24</td>\n",
       "      <td>tonnes</td>\n",
       "      <td>20.0</td>\n",
       "      <td>tonnes</td>\n",
       "      <td>0.0</td>\n",
       "      <td>Â°C</td>\n",
       "      <td>0.448</td>\n",
       "      <td>USD</td>\n",
       "      <td>3816.8</td>\n",
       "    </tr>\n",
       "    <tr>\n",
       "      <th>3</th>\n",
       "      <td>Livestock Primary</td>\n",
       "      <td>Brunei Darussalam</td>\n",
       "      <td>Production</td>\n",
       "      <td>Meat, chicken</td>\n",
       "      <td>2000</td>\n",
       "      <td>tonnes</td>\n",
       "      <td>11256.0</td>\n",
       "      <td>95.22</td>\n",
       "      <td>tonnes</td>\n",
       "      <td>920.0</td>\n",
       "      <td>tonnes</td>\n",
       "      <td>17.0</td>\n",
       "      <td>Â°C</td>\n",
       "      <td>0.448</td>\n",
       "      <td>USD</td>\n",
       "      <td>2807.5</td>\n",
       "    </tr>\n",
       "    <tr>\n",
       "      <th>4</th>\n",
       "      <td>Livestock Primary</td>\n",
       "      <td>Brunei Darussalam</td>\n",
       "      <td>Production</td>\n",
       "      <td>Milk, whole fresh cow</td>\n",
       "      <td>2000</td>\n",
       "      <td>tonnes</td>\n",
       "      <td>95.0</td>\n",
       "      <td>67.22</td>\n",
       "      <td>tonnes</td>\n",
       "      <td>1100.0</td>\n",
       "      <td>tonnes</td>\n",
       "      <td>0.0</td>\n",
       "      <td>Â°C</td>\n",
       "      <td>0.448</td>\n",
       "      <td>USD</td>\n",
       "      <td>1450.1</td>\n",
       "    </tr>\n",
       "    <tr>\n",
       "      <th>...</th>\n",
       "      <td>...</td>\n",
       "      <td>...</td>\n",
       "      <td>...</td>\n",
       "      <td>...</td>\n",
       "      <td>...</td>\n",
       "      <td>...</td>\n",
       "      <td>...</td>\n",
       "      <td>...</td>\n",
       "      <td>...</td>\n",
       "      <td>...</td>\n",
       "      <td>...</td>\n",
       "      <td>...</td>\n",
       "      <td>...</td>\n",
       "      <td>...</td>\n",
       "      <td>...</td>\n",
       "      <td>...</td>\n",
       "    </tr>\n",
       "    <tr>\n",
       "      <th>881</th>\n",
       "      <td>Livestock Primary</td>\n",
       "      <td>Viet Nam</td>\n",
       "      <td>Production</td>\n",
       "      <td>Meat, chicken</td>\n",
       "      <td>2013</td>\n",
       "      <td>tonnes</td>\n",
       "      <td>575752.0</td>\n",
       "      <td>101.28</td>\n",
       "      <td>tonnes</td>\n",
       "      <td>115187.0</td>\n",
       "      <td>tonnes</td>\n",
       "      <td>72.0</td>\n",
       "      <td>Â°C</td>\n",
       "      <td>0.926</td>\n",
       "      <td>USD</td>\n",
       "      <td>4515.7</td>\n",
       "    </tr>\n",
       "    <tr>\n",
       "      <th>882</th>\n",
       "      <td>Crops</td>\n",
       "      <td>Viet Nam</td>\n",
       "      <td>Production</td>\n",
       "      <td>Maize</td>\n",
       "      <td>2018</td>\n",
       "      <td>tonnes</td>\n",
       "      <td>4874054.0</td>\n",
       "      <td>88.55</td>\n",
       "      <td>tonnes</td>\n",
       "      <td>10377637.0</td>\n",
       "      <td>tonnes</td>\n",
       "      <td>80999.0</td>\n",
       "      <td>Â°C</td>\n",
       "      <td>0.904</td>\n",
       "      <td>USD</td>\n",
       "      <td>263.0</td>\n",
       "    </tr>\n",
       "    <tr>\n",
       "      <th>883</th>\n",
       "      <td>Crops</td>\n",
       "      <td>Viet Nam</td>\n",
       "      <td>Production</td>\n",
       "      <td>Rice, paddy</td>\n",
       "      <td>2018</td>\n",
       "      <td>tonnes</td>\n",
       "      <td>44046250.0</td>\n",
       "      <td>102.60</td>\n",
       "      <td>tonnes</td>\n",
       "      <td>5124.0</td>\n",
       "      <td>tonnes</td>\n",
       "      <td>2592.0</td>\n",
       "      <td>Â°C</td>\n",
       "      <td>0.904</td>\n",
       "      <td>USD</td>\n",
       "      <td>282.7</td>\n",
       "    </tr>\n",
       "    <tr>\n",
       "      <th>884</th>\n",
       "      <td>Livestock Primary</td>\n",
       "      <td>Viet Nam</td>\n",
       "      <td>Production</td>\n",
       "      <td>Eggs, hen, in shell</td>\n",
       "      <td>2018</td>\n",
       "      <td>tonnes</td>\n",
       "      <td>582280.0</td>\n",
       "      <td>66.73</td>\n",
       "      <td>tonnes</td>\n",
       "      <td>16.0</td>\n",
       "      <td>tonnes</td>\n",
       "      <td>1653.0</td>\n",
       "      <td>Â°C</td>\n",
       "      <td>0.904</td>\n",
       "      <td>USD</td>\n",
       "      <td>1431.5</td>\n",
       "    </tr>\n",
       "    <tr>\n",
       "      <th>885</th>\n",
       "      <td>Livestock Primary</td>\n",
       "      <td>Brunei Darussalam</td>\n",
       "      <td>Production</td>\n",
       "      <td>Meat, chicken</td>\n",
       "      <td>2018</td>\n",
       "      <td>tonnes</td>\n",
       "      <td>25057.0</td>\n",
       "      <td>89.71</td>\n",
       "      <td>tonnes</td>\n",
       "      <td>1328.0</td>\n",
       "      <td>tonnes</td>\n",
       "      <td>0.0</td>\n",
       "      <td>Â°C</td>\n",
       "      <td>0.969</td>\n",
       "      <td>USD</td>\n",
       "      <td>3380.5</td>\n",
       "    </tr>\n",
       "  </tbody>\n",
       "</table>\n",
       "<p>886 rows × 16 columns</p>\n",
       "</div>"
      ],
      "text/plain": [
       "                Domain               Area     Element                   Item  \\\n",
       "0                Crops  Brunei Darussalam  Production                Bananas   \n",
       "1    Livestock Primary  Brunei Darussalam  Production    Eggs, hen, in shell   \n",
       "2    Livestock Primary  Brunei Darussalam  Production           Meat, cattle   \n",
       "3    Livestock Primary  Brunei Darussalam  Production          Meat, chicken   \n",
       "4    Livestock Primary  Brunei Darussalam  Production  Milk, whole fresh cow   \n",
       "..                 ...                ...         ...                    ...   \n",
       "881  Livestock Primary           Viet Nam  Production          Meat, chicken   \n",
       "882              Crops           Viet Nam  Production                  Maize   \n",
       "883              Crops           Viet Nam  Production            Rice, paddy   \n",
       "884  Livestock Primary           Viet Nam  Production    Eggs, hen, in shell   \n",
       "885  Livestock Primary  Brunei Darussalam  Production          Meat, chicken   \n",
       "\n",
       "     Year Prod_Unit  Production_Value  Price_Index Import_Unit    Import_Q  \\\n",
       "0    2000    tonnes             542.0        74.43      tonnes        50.0   \n",
       "1    2000    tonnes            4800.0        77.12      tonnes       600.0   \n",
       "2    2000    tonnes            3210.0        41.24      tonnes        20.0   \n",
       "3    2000    tonnes           11256.0        95.22      tonnes       920.0   \n",
       "4    2000    tonnes              95.0        67.22      tonnes      1100.0   \n",
       "..    ...       ...               ...          ...         ...         ...   \n",
       "881  2013    tonnes          575752.0       101.28      tonnes    115187.0   \n",
       "882  2018    tonnes         4874054.0        88.55      tonnes  10377637.0   \n",
       "883  2018    tonnes        44046250.0       102.60      tonnes      5124.0   \n",
       "884  2018    tonnes          582280.0        66.73      tonnes        16.0   \n",
       "885  2018    tonnes           25057.0        89.71      tonnes      1328.0   \n",
       "\n",
       "    Export_Unit  Export_Q Temp_Change_Unit  Temp_Change_Value Price_Unit  \\\n",
       "0        tonnes       0.0              Â°C              0.448        USD   \n",
       "1        tonnes       0.0              Â°C              0.448        USD   \n",
       "2        tonnes       0.0              Â°C              0.448        USD   \n",
       "3        tonnes      17.0              Â°C              0.448        USD   \n",
       "4        tonnes       0.0              Â°C              0.448        USD   \n",
       "..          ...       ...              ...                ...        ...   \n",
       "881      tonnes      72.0              Â°C              0.926        USD   \n",
       "882      tonnes   80999.0              Â°C              0.904        USD   \n",
       "883      tonnes    2592.0              Â°C              0.904        USD   \n",
       "884      tonnes    1653.0              Â°C              0.904        USD   \n",
       "885      tonnes       0.0              Â°C              0.969        USD   \n",
       "\n",
       "     Price_Value  \n",
       "0          823.7  \n",
       "1         1628.2  \n",
       "2         3816.8  \n",
       "3         2807.5  \n",
       "4         1450.1  \n",
       "..           ...  \n",
       "881       4515.7  \n",
       "882        263.0  \n",
       "883        282.7  \n",
       "884       1431.5  \n",
       "885       3380.5  \n",
       "\n",
       "[886 rows x 16 columns]"
      ]
     },
     "execution_count": 43,
     "metadata": {},
     "output_type": "execute_result"
    }
   ],
   "source": [
    "df5 = pd.merge(df2, df3, how='inner', on=['Domain', 'Area', 'Element', 'Item', 'Year', 'Prod_Unit', 'Production_Value', 'Import_Unit', 'Import_Q', 'Export_Unit', 'Export_Q', 'Temp_Change_Unit', 'Temp_Change_Value'])\n",
    "df5"
   ]
  },
  {
   "cell_type": "code",
   "execution_count": 44,
   "metadata": {},
   "outputs": [],
   "source": [
    "df5.drop(['Area','Element','Item','Prod_Unit','Import_Unit','Export_Unit','Temp_Change_Unit','Price_Unit'], axis=1, inplace=True)\n"
   ]
  },
  {
   "cell_type": "code",
   "execution_count": 45,
   "metadata": {},
   "outputs": [],
   "source": [
    "df5['Import_Q'].fillna(df5['Import_Q'].mean(), inplace=True)\n",
    "df5['Export_Q'].fillna(df5['Export_Q'].mean(), inplace=True)\n",
    "df5['Temp_Change_Value'].fillna(df5['Temp_Change_Value'].mean(), inplace=True)"
   ]
  },
  {
   "cell_type": "code",
   "execution_count": 46,
   "metadata": {},
   "outputs": [],
   "source": [
    "df6 = pd.get_dummies(data=df5, columns=['Domain'])"
   ]
  },
  {
   "cell_type": "code",
   "execution_count": 47,
   "metadata": {},
   "outputs": [
    {
     "data": {
      "text/html": [
       "<div>\n",
       "<style scoped>\n",
       "    .dataframe tbody tr th:only-of-type {\n",
       "        vertical-align: middle;\n",
       "    }\n",
       "\n",
       "    .dataframe tbody tr th {\n",
       "        vertical-align: top;\n",
       "    }\n",
       "\n",
       "    .dataframe thead th {\n",
       "        text-align: right;\n",
       "    }\n",
       "</style>\n",
       "<table border=\"1\" class=\"dataframe\">\n",
       "  <thead>\n",
       "    <tr style=\"text-align: right;\">\n",
       "      <th></th>\n",
       "      <th>Year</th>\n",
       "      <th>Production_Value</th>\n",
       "      <th>Price_Index</th>\n",
       "      <th>Import_Q</th>\n",
       "      <th>Export_Q</th>\n",
       "      <th>Temp_Change_Value</th>\n",
       "      <th>Price_Value</th>\n",
       "      <th>Domain_Crops</th>\n",
       "      <th>Domain_Livestock Primary</th>\n",
       "    </tr>\n",
       "  </thead>\n",
       "  <tbody>\n",
       "    <tr>\n",
       "      <th>0</th>\n",
       "      <td>2000</td>\n",
       "      <td>542.0</td>\n",
       "      <td>74.43</td>\n",
       "      <td>50.0</td>\n",
       "      <td>0.0</td>\n",
       "      <td>0.448</td>\n",
       "      <td>823.7</td>\n",
       "      <td>1</td>\n",
       "      <td>0</td>\n",
       "    </tr>\n",
       "    <tr>\n",
       "      <th>1</th>\n",
       "      <td>2000</td>\n",
       "      <td>4800.0</td>\n",
       "      <td>77.12</td>\n",
       "      <td>600.0</td>\n",
       "      <td>0.0</td>\n",
       "      <td>0.448</td>\n",
       "      <td>1628.2</td>\n",
       "      <td>0</td>\n",
       "      <td>1</td>\n",
       "    </tr>\n",
       "    <tr>\n",
       "      <th>2</th>\n",
       "      <td>2000</td>\n",
       "      <td>3210.0</td>\n",
       "      <td>41.24</td>\n",
       "      <td>20.0</td>\n",
       "      <td>0.0</td>\n",
       "      <td>0.448</td>\n",
       "      <td>3816.8</td>\n",
       "      <td>0</td>\n",
       "      <td>1</td>\n",
       "    </tr>\n",
       "    <tr>\n",
       "      <th>3</th>\n",
       "      <td>2000</td>\n",
       "      <td>11256.0</td>\n",
       "      <td>95.22</td>\n",
       "      <td>920.0</td>\n",
       "      <td>17.0</td>\n",
       "      <td>0.448</td>\n",
       "      <td>2807.5</td>\n",
       "      <td>0</td>\n",
       "      <td>1</td>\n",
       "    </tr>\n",
       "    <tr>\n",
       "      <th>4</th>\n",
       "      <td>2000</td>\n",
       "      <td>95.0</td>\n",
       "      <td>67.22</td>\n",
       "      <td>1100.0</td>\n",
       "      <td>0.0</td>\n",
       "      <td>0.448</td>\n",
       "      <td>1450.1</td>\n",
       "      <td>0</td>\n",
       "      <td>1</td>\n",
       "    </tr>\n",
       "  </tbody>\n",
       "</table>\n",
       "</div>"
      ],
      "text/plain": [
       "   Year  Production_Value  Price_Index  Import_Q  Export_Q  Temp_Change_Value  \\\n",
       "0  2000             542.0        74.43      50.0       0.0              0.448   \n",
       "1  2000            4800.0        77.12     600.0       0.0              0.448   \n",
       "2  2000            3210.0        41.24      20.0       0.0              0.448   \n",
       "3  2000           11256.0        95.22     920.0      17.0              0.448   \n",
       "4  2000              95.0        67.22    1100.0       0.0              0.448   \n",
       "\n",
       "   Price_Value  Domain_Crops  Domain_Livestock Primary  \n",
       "0        823.7             1                         0  \n",
       "1       1628.2             0                         1  \n",
       "2       3816.8             0                         1  \n",
       "3       2807.5             0                         1  \n",
       "4       1450.1             0                         1  "
      ]
     },
     "execution_count": 47,
     "metadata": {},
     "output_type": "execute_result"
    }
   ],
   "source": [
    "df6.head()"
   ]
  },
  {
   "cell_type": "code",
   "execution_count": 48,
   "metadata": {},
   "outputs": [
    {
     "data": {
      "text/plain": [
       "Year                        0\n",
       "Production_Value            0\n",
       "Price_Index                 0\n",
       "Import_Q                    0\n",
       "Export_Q                    0\n",
       "Temp_Change_Value           0\n",
       "Price_Value                 0\n",
       "Domain_Crops                0\n",
       "Domain_Livestock Primary    0\n",
       "dtype: int64"
      ]
     },
     "execution_count": 48,
     "metadata": {},
     "output_type": "execute_result"
    }
   ],
   "source": [
    "df6.isna().sum()"
   ]
  },
  {
   "cell_type": "code",
   "execution_count": 49,
   "metadata": {},
   "outputs": [
    {
     "data": {
      "text/plain": [
       "<matplotlib.axes._subplots.AxesSubplot at 0x19393b936d0>"
      ]
     },
     "execution_count": 49,
     "metadata": {},
     "output_type": "execute_result"
    },
    {
     "data": {
      "image/png": "[encoded data removed]",
      "text/plain": [
       "<Figure size 720x720 with 2 Axes>"
      ]
     },
     "metadata": {
      "needs_background": "light"
     },
     "output_type": "display_data"
    }
   ],
   "source": [
    "dfc1=df6.corr()\n",
    "\n",
    "plt.subplots(figsize=(10,10))\n",
    "sns.heatmap(dfc1, annot=True)"
   ]
  },
  {
   "cell_type": "code",
   "execution_count": 50,
   "metadata": {},
   "outputs": [],
   "source": [
    "x = df6.drop(columns='Price_Value')\n",
    "y = df6['Price_Value']"
   ]
  },
  {
   "cell_type": "code",
   "execution_count": 51,
   "metadata": {},
   "outputs": [],
   "source": [
    "x_train_E, x_test_E, y_train_E, y_test_E = train_test_split(x, y, test_size = .20, random_state = 42)"
   ]
  },
  {
   "cell_type": "code",
   "execution_count": 52,
   "metadata": {},
   "outputs": [
    {
     "data": {
      "text/html": [
       "<div>\n",
       "<style scoped>\n",
       "    .dataframe tbody tr th:only-of-type {\n",
       "        vertical-align: middle;\n",
       "    }\n",
       "\n",
       "    .dataframe tbody tr th {\n",
       "        vertical-align: top;\n",
       "    }\n",
       "\n",
       "    .dataframe thead th {\n",
       "        text-align: right;\n",
       "    }\n",
       "</style>\n",
       "<table border=\"1\" class=\"dataframe\">\n",
       "  <thead>\n",
       "    <tr style=\"text-align: right;\">\n",
       "      <th></th>\n",
       "      <th>Year</th>\n",
       "      <th>Production_Value</th>\n",
       "      <th>Price_Index</th>\n",
       "      <th>Import_Q</th>\n",
       "      <th>Export_Q</th>\n",
       "      <th>Temp_Change_Value</th>\n",
       "      <th>Domain_Crops</th>\n",
       "      <th>Domain_Livestock Primary</th>\n",
       "    </tr>\n",
       "  </thead>\n",
       "  <tbody>\n",
       "    <tr>\n",
       "      <th>434</th>\n",
       "      <td>2003</td>\n",
       "      <td>13499884.0</td>\n",
       "      <td>48.37</td>\n",
       "      <td>23.0</td>\n",
       "      <td>0.000000</td>\n",
       "      <td>0.653</td>\n",
       "      <td>1</td>\n",
       "      <td>0</td>\n",
       "    </tr>\n",
       "    <tr>\n",
       "      <th>360</th>\n",
       "      <td>2014</td>\n",
       "      <td>59188.0</td>\n",
       "      <td>92.27</td>\n",
       "      <td>3822338.0</td>\n",
       "      <td>703.000000</td>\n",
       "      <td>0.951</td>\n",
       "      <td>1</td>\n",
       "      <td>0</td>\n",
       "    </tr>\n",
       "    <tr>\n",
       "      <th>355</th>\n",
       "      <td>2013</td>\n",
       "      <td>160390.0</td>\n",
       "      <td>85.86</td>\n",
       "      <td>33.0</td>\n",
       "      <td>2569.000000</td>\n",
       "      <td>0.962</td>\n",
       "      <td>0</td>\n",
       "      <td>1</td>\n",
       "    </tr>\n",
       "    <tr>\n",
       "      <th>81</th>\n",
       "      <td>2010</td>\n",
       "      <td>8245320.0</td>\n",
       "      <td>93.88</td>\n",
       "      <td>0.0</td>\n",
       "      <td>528473.802817</td>\n",
       "      <td>1.107</td>\n",
       "      <td>1</td>\n",
       "      <td>0</td>\n",
       "    </tr>\n",
       "    <tr>\n",
       "      <th>838</th>\n",
       "      <td>2017</td>\n",
       "      <td>532000.0</td>\n",
       "      <td>131.81</td>\n",
       "      <td>25.0</td>\n",
       "      <td>409.000000</td>\n",
       "      <td>1.211</td>\n",
       "      <td>0</td>\n",
       "      <td>1</td>\n",
       "    </tr>\n",
       "  </tbody>\n",
       "</table>\n",
       "</div>"
      ],
      "text/plain": [
       "     Year  Production_Value  Price_Index   Import_Q       Export_Q  \\\n",
       "434  2003        13499884.0        48.37       23.0       0.000000   \n",
       "360  2014           59188.0        92.27  3822338.0     703.000000   \n",
       "355  2013          160390.0        85.86       33.0    2569.000000   \n",
       "81   2010         8245320.0        93.88        0.0  528473.802817   \n",
       "838  2017          532000.0       131.81       25.0     409.000000   \n",
       "\n",
       "     Temp_Change_Value  Domain_Crops  Domain_Livestock Primary  \n",
       "434              0.653             1                         0  \n",
       "360              0.951             1                         0  \n",
       "355              0.962             0                         1  \n",
       "81               1.107             1                         0  \n",
       "838              1.211             0                         1  "
      ]
     },
     "execution_count": 52,
     "metadata": {},
     "output_type": "execute_result"
    }
   ],
   "source": [
    "x_train_E.head()"
   ]
  },
  {
   "cell_type": "code",
   "execution_count": 53,
   "metadata": {},
   "outputs": [
    {
     "data": {
      "text/plain": [
       "(708, 8)"
      ]
     },
     "execution_count": 53,
     "metadata": {},
     "output_type": "execute_result"
    }
   ],
   "source": [
    "x_train_E.shape"
   ]
  },
  {
   "cell_type": "code",
   "execution_count": 54,
   "metadata": {},
   "outputs": [
    {
     "data": {
      "text/plain": [
       "(178, 8)"
      ]
     },
     "execution_count": 54,
     "metadata": {},
     "output_type": "execute_result"
    }
   ],
   "source": [
    "x_test_E.shape"
   ]
  },
  {
   "cell_type": "code",
   "execution_count": 55,
   "metadata": {},
   "outputs": [],
   "source": [
    "model_E = LinearRegression()"
   ]
  },
  {
   "cell_type": "code",
   "execution_count": 56,
   "metadata": {},
   "outputs": [
    {
     "data": {
      "text/plain": [
       "LinearRegression()"
      ]
     },
     "execution_count": 56,
     "metadata": {},
     "output_type": "execute_result"
    }
   ],
   "source": [
    "model_E.fit(x_train_E, y_train_E)"
   ]
  },
  {
   "cell_type": "code",
   "execution_count": 57,
   "metadata": {},
   "outputs": [
    {
     "data": {
      "text/plain": [
       "array([-4.31815272e+01,  3.13203559e+03,  2.72193751e+03,  4.77526476e+01,\n",
       "        2.83904415e+03,  2.14702669e+03,  2.88667959e+03,  2.68986677e+03,\n",
       "        4.50404676e+02,  2.59993298e+03,  3.14921289e+03,  5.86892462e+02,\n",
       "        2.31605251e+02,  1.42077969e+02, -2.16650048e+01,  7.11805506e+02,\n",
       "        1.97387307e+02,  2.89526549e+03,  4.33405974e+02,  2.17537562e+03,\n",
       "        2.38850263e+03,  2.85289650e+03,  2.23318624e+03,  2.25622312e+03,\n",
       "        4.32805859e+02, -3.53442166e+01,  2.70238979e+03,  5.97843592e+02,\n",
       "        2.12779665e+03,  1.37233630e+02,  2.48843979e+03,  2.73164316e+03,\n",
       "        2.97969552e+03,  2.50824913e+03,  2.18919765e+03,  1.10241946e+03,\n",
       "        2.80902007e+03,  9.67180561e+01,  2.27346417e+03,  2.54134602e+03,\n",
       "        2.55728318e+03,  7.22250042e+02,  7.95745308e+02,  3.08248488e+03,\n",
       "        6.15509661e+02,  7.13640473e+02,  3.02025735e+03,  2.89144317e+03,\n",
       "        2.13660087e+03,  4.79075010e+02,  2.78660849e+03,  2.80525023e+03,\n",
       "       -1.18029507e+02,  2.00940401e+03,  2.64777561e+03,  6.08765995e+02,\n",
       "        2.89249006e+03,  2.35912152e+03,  6.37264465e+02,  1.40372111e+02,\n",
       "        2.41268891e+03,  3.70750190e+02,  2.01121515e+03,  7.43311355e+02,\n",
       "        5.34093918e+02,  8.02797036e+02,  2.46688107e+02,  7.67452869e+02,\n",
       "       -9.21478618e+01,  2.98016461e+03,  2.86836397e+03,  1.13599481e+03,\n",
       "        2.56851068e+03, -1.54787707e+02,  2.37420707e+03,  1.10596847e+02,\n",
       "        2.50570891e+03,  2.20105667e+03,  2.14702734e+03,  6.85825251e+02,\n",
       "        2.63580462e+03,  7.81136267e+02,  1.07987185e+02,  2.40979056e+02,\n",
       "        2.11085236e+03,  2.48526307e+03,  3.07069162e+02,  2.84821866e+03,\n",
       "        2.42309747e+03,  1.03644859e+02,  6.05765898e+02, -6.60506298e+01,\n",
       "        2.58898435e+03,  2.50610886e+03,  2.27277913e+03,  2.61477366e+03,\n",
       "        9.55881766e+01,  2.87451279e+03,  2.74840341e+03,  8.90957524e+02,\n",
       "        2.85709744e+03,  2.91817993e+03,  5.48486130e+02,  1.96908579e+02,\n",
       "        4.41100549e+02,  2.06193464e+03,  3.20093419e+02,  8.27548753e+02,\n",
       "        4.61486049e+02,  7.12010060e+02,  7.19429370e+01,  3.07590253e+02,\n",
       "        1.99788342e+03,  4.04955325e+02,  2.32990952e+03,  2.81602028e+03,\n",
       "        2.06277405e+02,  2.17070880e+02,  2.58005006e+03,  9.64539579e+02,\n",
       "       -1.35150311e+02,  1.86751837e+02,  7.81978765e+01,  2.47293553e+03,\n",
       "        4.40718275e+02,  3.01237958e+03,  1.83384585e+03,  1.53480331e+02,\n",
       "       -6.82718490e+00,  1.13536069e+02,  4.49388345e+02,  2.55084408e+03,\n",
       "       -3.03174135e+02,  2.82146944e+03,  2.93688422e+03,  2.42321890e+03,\n",
       "        2.72790951e+03,  2.56840742e+03,  3.21197420e+03,  2.23643074e+03,\n",
       "        2.57984803e+03,  6.76658636e+02,  2.38328852e+03,  6.46681904e+02,\n",
       "        9.78617233e+02,  1.10405628e+02,  2.52868485e+03,  2.64438648e+03,\n",
       "        2.82544752e+03,  5.60084471e+02,  3.08123288e+03,  2.68475608e+03,\n",
       "        2.91872094e+03, -9.12043392e+01,  2.19954389e+03,  2.03147940e+03,\n",
       "        2.24273995e+02,  2.64576677e+03,  2.11805902e+03,  2.18032662e+03,\n",
       "        7.01157108e+02,  1.85650503e+03, -2.22069392e+01,  6.55962694e+01,\n",
       "        2.27620190e+03,  2.22074128e+03,  8.50588443e+02, -6.03246762e+01,\n",
       "        2.29927509e+03,  2.77895833e+03,  9.68515430e+02,  9.24514720e+02,\n",
       "        2.37020168e+03,  1.21163861e+03,  3.02095207e+03,  2.46340367e+03,\n",
       "       -7.76946191e-01, -1.43909608e+02])"
      ]
     },
     "execution_count": 57,
     "metadata": {},
     "output_type": "execute_result"
    }
   ],
   "source": [
    "model_E.predict(x_test_E)"
   ]
  },
  {
   "cell_type": "code",
   "execution_count": 58,
   "metadata": {},
   "outputs": [
    {
     "data": {
      "text/plain": [
       "-173543.20010289003"
      ]
     },
     "execution_count": 58,
     "metadata": {},
     "output_type": "execute_result"
    }
   ],
   "source": [
    "model_E.intercept_"
   ]
  },
  {
   "cell_type": "code",
   "execution_count": 59,
   "metadata": {},
   "outputs": [
    {
     "data": {
      "text/plain": [
       "array([ 8.74142516e+01, -7.21038840e-06, -1.85723192e+00, -9.19922134e-05,\n",
       "        6.03548131e-06, -4.76247635e+02, -1.06120877e+03,  1.06120877e+03])"
      ]
     },
     "execution_count": 59,
     "metadata": {},
     "output_type": "execute_result"
    }
   ],
   "source": [
    "model_E.coef_"
   ]
  },
  {
   "cell_type": "code",
   "execution_count": 60,
   "metadata": {},
   "outputs": [
    {
     "data": {
      "text/plain": [
       "Index(['Year', 'Production_Value', 'Price_Index', 'Import_Q', 'Export_Q',\n",
       "       'Temp_Change_Value', 'Domain_Crops', 'Domain_Livestock Primary'],\n",
       "      dtype='object')"
      ]
     },
     "execution_count": 60,
     "metadata": {},
     "output_type": "execute_result"
    }
   ],
   "source": [
    "x_train_E.columns"
   ]
  },
  {
   "cell_type": "code",
   "execution_count": 61,
   "metadata": {},
   "outputs": [
    {
     "data": {
      "text/html": [
       "<div>\n",
       "<style scoped>\n",
       "    .dataframe tbody tr th:only-of-type {\n",
       "        vertical-align: middle;\n",
       "    }\n",
       "\n",
       "    .dataframe tbody tr th {\n",
       "        vertical-align: top;\n",
       "    }\n",
       "\n",
       "    .dataframe thead th {\n",
       "        text-align: right;\n",
       "    }\n",
       "</style>\n",
       "<table border=\"1\" class=\"dataframe\">\n",
       "  <thead>\n",
       "    <tr style=\"text-align: right;\">\n",
       "      <th></th>\n",
       "      <th>Coefficient</th>\n",
       "    </tr>\n",
       "  </thead>\n",
       "  <tbody>\n",
       "    <tr>\n",
       "      <th>Year</th>\n",
       "      <td>87.414252</td>\n",
       "    </tr>\n",
       "    <tr>\n",
       "      <th>Production_Value</th>\n",
       "      <td>-0.000007</td>\n",
       "    </tr>\n",
       "    <tr>\n",
       "      <th>Price_Index</th>\n",
       "      <td>-1.857232</td>\n",
       "    </tr>\n",
       "    <tr>\n",
       "      <th>Import_Q</th>\n",
       "      <td>-0.000092</td>\n",
       "    </tr>\n",
       "    <tr>\n",
       "      <th>Export_Q</th>\n",
       "      <td>0.000006</td>\n",
       "    </tr>\n",
       "    <tr>\n",
       "      <th>Temp_Change_Value</th>\n",
       "      <td>-476.247635</td>\n",
       "    </tr>\n",
       "    <tr>\n",
       "      <th>Domain_Crops</th>\n",
       "      <td>-1061.208767</td>\n",
       "    </tr>\n",
       "    <tr>\n",
       "      <th>Domain_Livestock Primary</th>\n",
       "      <td>1061.208767</td>\n",
       "    </tr>\n",
       "  </tbody>\n",
       "</table>\n",
       "</div>"
      ],
      "text/plain": [
       "                          Coefficient\n",
       "Year                        87.414252\n",
       "Production_Value            -0.000007\n",
       "Price_Index                 -1.857232\n",
       "Import_Q                    -0.000092\n",
       "Export_Q                     0.000006\n",
       "Temp_Change_Value         -476.247635\n",
       "Domain_Crops             -1061.208767\n",
       "Domain_Livestock Primary  1061.208767"
      ]
     },
     "execution_count": 61,
     "metadata": {},
     "output_type": "execute_result"
    }
   ],
   "source": [
    "pd.DataFrame(index= x_train_E.columns, data = model_E.coef_, columns=['Coefficient'])"
   ]
  },
  {
   "cell_type": "code",
   "execution_count": 62,
   "metadata": {},
   "outputs": [],
   "source": [
    "# x_train.head()"
   ]
  },
  {
   "cell_type": "code",
   "execution_count": 63,
   "metadata": {},
   "outputs": [
    {
     "data": {
      "text/plain": [
       "array([1256.93667598])"
      ]
     },
     "execution_count": 63,
     "metadata": {},
     "output_type": "execute_result"
    }
   ],
   "source": [
    "model_E.predict([[2020,1928000,70,456,703,1.2,1,0]])"
   ]
  },
  {
   "cell_type": "code",
   "execution_count": 64,
   "metadata": {},
   "outputs": [],
   "source": [
    "# model.predict([[2020,0,0,0,0,0,0,0,0,0,0,0,0,0,0,0,0,0,0,0]])"
   ]
  },
  {
   "cell_type": "code",
   "execution_count": 65,
   "metadata": {},
   "outputs": [],
   "source": [
    "# sm_model = OLS(y_train, sm.add_constant(x_train))"
   ]
  },
  {
   "cell_type": "code",
   "execution_count": 66,
   "metadata": {},
   "outputs": [],
   "source": [
    "# result = sm_model.fit()"
   ]
  },
  {
   "cell_type": "code",
   "execution_count": 67,
   "metadata": {},
   "outputs": [],
   "source": [
    "# result.summary()"
   ]
  },
  {
   "cell_type": "code",
   "execution_count": 68,
   "metadata": {},
   "outputs": [],
   "source": [
    "pred_train_E = model_E.predict(x_train_E)"
   ]
  },
  {
   "cell_type": "code",
   "execution_count": 69,
   "metadata": {},
   "outputs": [
    {
     "data": {
      "image/png": "[encoded data removed]",
      "text/plain": [
       "<Figure size 432x288 with 1 Axes>"
      ]
     },
     "metadata": {
      "needs_background": "light"
     },
     "output_type": "display_data"
    }
   ],
   "source": [
    "plt.scatter(y_train_E, pred_train_E, s=15)\n",
    "\n",
    "plt.xlabel('Harga')\n",
    "plt.ylabel('Harga Prediksi')\n",
    "\n",
    "plt.show()"
   ]
  },
  {
   "cell_type": "code",
   "execution_count": 70,
   "metadata": {},
   "outputs": [],
   "source": [
    "pred_test_E = model_E.predict(x_test_E)"
   ]
  },
  {
   "cell_type": "code",
   "execution_count": 71,
   "metadata": {},
   "outputs": [
    {
     "data": {
      "image/png": "[encoded data removed]",
      "text/plain": [
       "<Figure size 432x288 with 1 Axes>"
      ]
     },
     "metadata": {
      "needs_background": "light"
     },
     "output_type": "display_data"
    }
   ],
   "source": [
    "plt.scatter(y_test_E, pred_test_E, s=15)\n",
    "\n",
    "plt.xlabel('Harga Aktual')\n",
    "plt.ylabel('Harga Prediksi')\n",
    "\n",
    "plt.show()"
   ]
  },
  {
   "cell_type": "code",
   "execution_count": null,
   "metadata": {},
   "outputs": [],
   "source": []
  },
  {
   "cell_type": "code",
   "execution_count": 72,
   "metadata": {},
   "outputs": [],
   "source": [
    "pred_train_E = model_E.predict(x_train_E) ### Data Prediksi Model (Training)\n",
    "\n",
    "MAE_train_E = median_absolute_error(y_train_E, pred_train_E)\n",
    "\n",
    "MSE_train_E = mean_squared_error(y_train_E, pred_train_E)\n",
    "\n",
    "RMSE_train_E = np.sqrt(MSE_train_E)\n",
    "\n",
    "R2_train_E = r2_score(y_train_E, pred_train_E)"
   ]
  },
  {
   "cell_type": "code",
   "execution_count": 73,
   "metadata": {},
   "outputs": [
    {
     "name": "stdout",
     "output_type": "stream",
     "text": [
      "Hasil Evaluasi Data Training\n",
      "Nilai MAE :  498.7465051800857\n",
      "Nilai MSE :  1747824.1374444284\n",
      "Nilai RMSE :  1322.053000996718\n",
      "Nilai R2 :  0.4302542158548863\n"
     ]
    }
   ],
   "source": [
    "print(\"Hasil Evaluasi Data Training\")\n",
    "print(\"Nilai MAE : \", MAE_train_E)\n",
    "print(\"Nilai MSE : \", MSE_train_E)\n",
    "print(\"Nilai RMSE : \", RMSE_train_E)\n",
    "print(\"Nilai R2 : \", R2_train_E)"
   ]
  },
  {
   "cell_type": "code",
   "execution_count": 74,
   "metadata": {},
   "outputs": [],
   "source": [
    "pred_test_E = model_E.predict(x_test_E)\n",
    "\n",
    "MAE_test_E = median_absolute_error(y_test_E, pred_test_E)\n",
    "\n",
    "MSE_test_E = mean_squared_error(y_test_E, pred_test_E)\n",
    "\n",
    "RMSE_test_E = np.sqrt(MSE_test_E)\n",
    "\n",
    "R2_test_E = r2_score(y_test_E, pred_test_E)"
   ]
  },
  {
   "cell_type": "code",
   "execution_count": 75,
   "metadata": {},
   "outputs": [
    {
     "name": "stdout",
     "output_type": "stream",
     "text": [
      "Hasil Evaluasi Data Testing \n",
      "Nilai MAE :  550.6918014469848\n",
      "Nilai MSE :  1828316.2142696127\n",
      "Nilai RMSE :  1352.1524375119889\n",
      "Nilai R2 :  0.4277942015480526\n"
     ]
    }
   ],
   "source": [
    "print(\"Hasil Evaluasi Data Testing \")\n",
    "print(\"Nilai MAE : \", MAE_test_E)\n",
    "print(\"Nilai MSE : \", MSE_test_E)\n",
    "print(\"Nilai RMSE : \", RMSE_test_E)\n",
    "print(\"Nilai R2 : \", R2_test_E)"
   ]
  },
  {
   "cell_type": "code",
   "execution_count": 76,
   "metadata": {},
   "outputs": [
    {
     "ename": "AttributeError",
     "evalue": "'LinearRegression' object has no attribute 'best_estimator_'",
     "output_type": "error",
     "traceback": [
      "\u001b[1;31m---------------------------------------------------------------------------\u001b[0m",
      "\u001b[1;31mAttributeError\u001b[0m                            Traceback (most recent call last)",
      "\u001b[1;32m<ipython-input-76-7aadefb9f5f2>\u001b[0m in \u001b[0;36m<module>\u001b[1;34m\u001b[0m\n\u001b[1;32m----> 1\u001b[1;33m \u001b[0mmodel_E\u001b[0m \u001b[1;33m=\u001b[0m \u001b[0mmodel_E\u001b[0m\u001b[1;33m.\u001b[0m\u001b[0mbest_estimator_\u001b[0m\u001b[1;33m\u001b[0m\u001b[1;33m\u001b[0m\u001b[0m\n\u001b[0m",
      "\u001b[1;31mAttributeError\u001b[0m: 'LinearRegression' object has no attribute 'best_estimator_'"
     ]
    }
   ],
   "source": [
    "model_E = model_E.best_estimator_"
   ]
  },
  {
   "cell_type": "code",
   "execution_count": null,
   "metadata": {},
   "outputs": [],
   "source": [
    "joblib.dump(model_E, 'Model_LR_PRICE')"
   ]
  },
  {
   "cell_type": "code",
   "execution_count": null,
   "metadata": {},
   "outputs": [],
   "source": [
    "poli = PolynomialFeatures(degree=15, include_bias=False, interaction_only = True)"
   ]
  },
  {
   "cell_type": "code",
   "execution_count": null,
   "metadata": {},
   "outputs": [],
   "source": [
    "X_poli = poli.fit_transform(x)\n",
    "\n",
    "X_poli[0]"
   ]
  },
  {
   "cell_type": "code",
   "execution_count": null,
   "metadata": {},
   "outputs": [],
   "source": [
    "X_poli.shape"
   ]
  },
  {
   "cell_type": "code",
   "execution_count": null,
   "metadata": {},
   "outputs": [],
   "source": [
    "df_1 = pd.DataFrame(data = X_poli, columns = np.arange(255))"
   ]
  },
  {
   "cell_type": "code",
   "execution_count": null,
   "metadata": {},
   "outputs": [],
   "source": [
    "df_All = pd.concat([df6, df_1], axis=1)"
   ]
  },
  {
   "cell_type": "code",
   "execution_count": null,
   "metadata": {},
   "outputs": [],
   "source": [
    "df_All.head()"
   ]
  },
  {
   "cell_type": "code",
   "execution_count": null,
   "metadata": {},
   "outputs": [],
   "source": [
    "df_All.drop(columns=[0,1,2,3,4,5,6,7], inplace=True)"
   ]
  },
  {
   "cell_type": "code",
   "execution_count": null,
   "metadata": {},
   "outputs": [],
   "source": [
    "X = df_All.drop(columns='Price_Value')  ### Features / Soal\n",
    "y = df_All['Price_Value'] ### Target / Jawaban\n",
    "\n",
    "X_train_poli, X_test_poli, y_train_poli, y_test_poli = train_test_split(X, y, test_size = .20, random_state = 666)"
   ]
  },
  {
   "cell_type": "code",
   "execution_count": null,
   "metadata": {},
   "outputs": [],
   "source": [
    "model_poli = LinearRegression()"
   ]
  },
  {
   "cell_type": "code",
   "execution_count": null,
   "metadata": {},
   "outputs": [],
   "source": [
    "model_poli.fit(X_train_poli, y_train_poli)"
   ]
  },
  {
   "cell_type": "code",
   "execution_count": null,
   "metadata": {},
   "outputs": [],
   "source": [
    "poli_test = model_poli.predict(X_test_poli)"
   ]
  },
  {
   "cell_type": "code",
   "execution_count": null,
   "metadata": {},
   "outputs": [],
   "source": [
    "MAE_poli = median_absolute_error(y_test_poli, poli_test)"
   ]
  },
  {
   "cell_type": "code",
   "execution_count": null,
   "metadata": {},
   "outputs": [],
   "source": [
    "MSE_poli = mean_squared_error(y_test_poli, poli_test)"
   ]
  },
  {
   "cell_type": "code",
   "execution_count": null,
   "metadata": {},
   "outputs": [],
   "source": [
    "RMSE_poli = np.sqrt(MSE_poli)"
   ]
  },
  {
   "cell_type": "code",
   "execution_count": null,
   "metadata": {},
   "outputs": [],
   "source": [
    "R2_poli = r2_score(y_test_poli, poli_test)"
   ]
  },
  {
   "cell_type": "code",
   "execution_count": null,
   "metadata": {},
   "outputs": [],
   "source": [
    "data = {\n",
    "    \"Linreg\" : [MAE_test_E, MSE_test_E, RMSE_test_E, R2_test_E],\n",
    "    \"Polynomial_degree\" : [MAE_poli, MSE_poli, RMSE_poli, R2_poli]\n",
    "}"
   ]
  },
  {
   "cell_type": "code",
   "execution_count": null,
   "metadata": {},
   "outputs": [],
   "source": [
    "pd.DataFrame(data=data, index=['MAE', 'MSE', 'RMSE', 'R2'])"
   ]
  },
  {
   "cell_type": "code",
   "execution_count": null,
   "metadata": {},
   "outputs": [],
   "source": []
  },
  {
   "cell_type": "code",
   "execution_count": null,
   "metadata": {},
   "outputs": [],
   "source": [
    "scaling = RobustScaler()"
   ]
  },
  {
   "cell_type": "code",
   "execution_count": null,
   "metadata": {},
   "outputs": [],
   "source": [
    "X_scaled = scaling.fit_transform(X)"
   ]
  },
  {
   "cell_type": "code",
   "execution_count": null,
   "metadata": {},
   "outputs": [],
   "source": [
    "X = X_scaled\n",
    "y = df6['Price_Value']"
   ]
  },
  {
   "cell_type": "code",
   "execution_count": null,
   "metadata": {},
   "outputs": [],
   "source": [
    "X_train, X_test, y_train, y_test = train_test_split(X, y, test_size = .2, random_state = 42)"
   ]
  },
  {
   "cell_type": "code",
   "execution_count": null,
   "metadata": {},
   "outputs": [],
   "source": [
    "model_scaled = LinearRegression()"
   ]
  },
  {
   "cell_type": "code",
   "execution_count": null,
   "metadata": {},
   "outputs": [],
   "source": [
    "model_scaled.fit(X_train, y_train)"
   ]
  },
  {
   "cell_type": "code",
   "execution_count": null,
   "metadata": {},
   "outputs": [],
   "source": [
    "pred_scaled = model_scaled.predict(X_test)"
   ]
  },
  {
   "cell_type": "code",
   "execution_count": null,
   "metadata": {},
   "outputs": [],
   "source": [
    "MAE_scaled = median_absolute_error(y_test, pred_scaled)\n",
    "\n",
    "MSE_scaled = mean_squared_error(y_test, pred_scaled)\n",
    "\n",
    "RMSE_scaled = np.sqrt(MSE_scaled)\n",
    "\n",
    "R2_scaled = r2_score(y_test, pred_scaled)"
   ]
  },
  {
   "cell_type": "code",
   "execution_count": null,
   "metadata": {},
   "outputs": [],
   "source": [
    "print(\"Hasil Evaluation Matrix : \")\n",
    "print(\"MAE : \", MAE_scaled)\n",
    "print(\"MSE : \", MSE_scaled)\n",
    "print(\"RMSE : \", RMSE_scaled)\n",
    "print(\"R2 : \", R2_scaled)"
   ]
  },
  {
   "cell_type": "code",
   "execution_count": null,
   "metadata": {},
   "outputs": [],
   "source": [
    "data = [0.000001, 0.005,0.01, 0.05, 0.1, 0.12, 0.5, 0.7, 1, 10, 15, 20, 50, 100, 110, 115, 120, 125, 150, 175, 200,225,250,275,300]\n",
    "eva = []\n",
    "for i in data:\n",
    "    model_Ridge = Ridge(alpha = i)\n",
    "    model_Ridge.fit(x_train_E, y_train_E)\n",
    "    result=model_Ridge.score(x_test_E, y_test_E)\n",
    "    eva.append(result)\n",
    "    \n",
    "eva    "
   ]
  },
  {
   "cell_type": "code",
   "execution_count": null,
   "metadata": {},
   "outputs": [],
   "source": [
    "data_L = [0.000001, 0.005,0.01, 0.05, 0.1, 0.12, 0.5, 0.7, 1, 10, 15, 20, 50, 100, 125, 150, 175, 200]\n",
    "eva_L = []\n",
    "for i in data:\n",
    "    model_Lasso = Ridge(alpha = i)\n",
    "    model_Lasso.fit(x_train_E, y_train_E)\n",
    "    result=model_Lasso.score(x_test_E, y_test_E)\n",
    "    eva_L.append(result)\n",
    "    \n",
    "eva_L"
   ]
  },
  {
   "cell_type": "code",
   "execution_count": null,
   "metadata": {},
   "outputs": [],
   "source": [
    "model_enet=ElasticNet(l1_ratio=0.00001, alpha=0.000001)"
   ]
  },
  {
   "cell_type": "code",
   "execution_count": null,
   "metadata": {},
   "outputs": [],
   "source": [
    "model_enet.fit(x_train_E, y_train_E)"
   ]
  },
  {
   "cell_type": "code",
   "execution_count": null,
   "metadata": {},
   "outputs": [],
   "source": [
    "model_enet.score(x_test_E, y_test_E)"
   ]
  },
  {
   "cell_type": "code",
   "execution_count": null,
   "metadata": {},
   "outputs": [],
   "source": [
    "# KNN"
   ]
  },
  {
   "cell_type": "code",
   "execution_count": null,
   "metadata": {},
   "outputs": [],
   "source": [
    "base_KNN = KNeighborsRegressor()"
   ]
  },
  {
   "cell_type": "code",
   "execution_count": null,
   "metadata": {},
   "outputs": [],
   "source": [
    "base_KNN.fit(x_train_E, y_train_E)"
   ]
  },
  {
   "cell_type": "code",
   "execution_count": null,
   "metadata": {},
   "outputs": [],
   "source": [
    "y_baseKNN = base_KNN.predict(x_test_E)"
   ]
  },
  {
   "cell_type": "code",
   "execution_count": null,
   "metadata": {},
   "outputs": [],
   "source": [
    "r2_base_KNN = r2_score(y_test_E, y_baseKNN)\n",
    "r2_base_KNN"
   ]
  },
  {
   "cell_type": "code",
   "execution_count": null,
   "metadata": {},
   "outputs": [],
   "source": [
    "MAE_base_KNN = median_absolute_error(y_test_E, y_baseKNN)"
   ]
  },
  {
   "cell_type": "code",
   "execution_count": null,
   "metadata": {},
   "outputs": [],
   "source": [
    "MSE_base_KNN = mean_squared_error(y_test_E, y_baseKNN)"
   ]
  },
  {
   "cell_type": "code",
   "execution_count": null,
   "metadata": {},
   "outputs": [],
   "source": [
    "RMSE_base_KNN = np.sqrt(MSE_base_KNN)\n"
   ]
  },
  {
   "cell_type": "code",
   "execution_count": null,
   "metadata": {},
   "outputs": [],
   "source": [
    "print(\"Hasil Evaluasi Data Testing \")\n",
    "print(\"Nilai MAE : \", MAE_base_KNN)\n",
    "print(\"Nilai MSE : \", MSE_base_KNN)\n",
    "print(\"Nilai RMSE : \", RMSE_base_KNN)\n",
    "print(\"Nilai R2 : \", r2_base_KNN)"
   ]
  },
  {
   "cell_type": "code",
   "execution_count": null,
   "metadata": {},
   "outputs": [],
   "source": []
  },
  {
   "cell_type": "code",
   "execution_count": null,
   "metadata": {},
   "outputs": [],
   "source": [
    "KNN_tuned = KNeighborsRegressor()"
   ]
  },
  {
   "cell_type": "code",
   "execution_count": null,
   "metadata": {},
   "outputs": [],
   "source": [
    "param_KNN = {\"n_neighbors\" : [5, 15, 25, 35, 75],\n",
    "            \"weights\" : [\"uniform\", \"distance\"],\n",
    "            \"p\" : [1,2]}"
   ]
  },
  {
   "cell_type": "code",
   "execution_count": null,
   "metadata": {},
   "outputs": [],
   "source": [
    "model_KNN = GridSearchCV(estimator=KNN_tuned, param_grid=param_KNN, n_jobs = -1, cv = 5, verbose=1 )"
   ]
  },
  {
   "cell_type": "code",
   "execution_count": null,
   "metadata": {},
   "outputs": [],
   "source": []
  },
  {
   "cell_type": "code",
   "execution_count": null,
   "metadata": {},
   "outputs": [],
   "source": [
    "model_KNN.fit(x_train_E, y_train_E)"
   ]
  },
  {
   "cell_type": "code",
   "execution_count": null,
   "metadata": {},
   "outputs": [],
   "source": [
    "model_KNN.best_params_"
   ]
  },
  {
   "cell_type": "code",
   "execution_count": null,
   "metadata": {},
   "outputs": [],
   "source": [
    "model_KNN.best_score_"
   ]
  },
  {
   "cell_type": "code",
   "execution_count": null,
   "metadata": {},
   "outputs": [],
   "source": [
    "model_KNN.best_estimator_"
   ]
  },
  {
   "cell_type": "code",
   "execution_count": null,
   "metadata": {},
   "outputs": [],
   "source": [
    "KNN_Tuned = model_KNN.best_estimator_"
   ]
  },
  {
   "cell_type": "code",
   "execution_count": null,
   "metadata": {},
   "outputs": [],
   "source": [
    "y_tunedKNN = KNN_Tuned.predict(x_test_E)"
   ]
  },
  {
   "cell_type": "code",
   "execution_count": null,
   "metadata": {},
   "outputs": [],
   "source": [
    "r2_tuned_KNN = r2_score(y_test, y_tunedKNN)\n",
    "\n",
    "MAE_tuned_KNN = mean_absolute_error(y_test, y_tunedKNN)\n",
    "\n",
    "MSE_tuned_KNN = mean_squared_error(y_test, y_tunedKNN)\n",
    "\n",
    "RMSE_tuned_KNN = np.sqrt(MSE_tuned_KNN)"
   ]
  },
  {
   "cell_type": "code",
   "execution_count": null,
   "metadata": {},
   "outputs": [],
   "source": [
    "print(\"Hasil Evaluasi Data Testing \")\n",
    "print(\"Nilai MAE : \", MAE_tuned_KNN)\n",
    "print(\"Nilai MSE : \", MSE_tuned_KNN)\n",
    "print(\"Nilai RMSE : \", RMSE_tuned_KNN)\n",
    "print(\"Nilai R2 : \", r2_tuned_KNN)"
   ]
  },
  {
   "cell_type": "code",
   "execution_count": null,
   "metadata": {},
   "outputs": [],
   "source": [
    "joblib.dump(KNN_Tuned, 'Model_KNN_PRICE')"
   ]
  },
  {
   "cell_type": "code",
   "execution_count": null,
   "metadata": {},
   "outputs": [],
   "source": []
  },
  {
   "cell_type": "code",
   "execution_count": null,
   "metadata": {},
   "outputs": [],
   "source": [
    "base_RF = RandomForestRegressor()"
   ]
  },
  {
   "cell_type": "code",
   "execution_count": null,
   "metadata": {},
   "outputs": [],
   "source": [
    "base_RF.fit(x_train_E, y_train)"
   ]
  },
  {
   "cell_type": "code",
   "execution_count": null,
   "metadata": {},
   "outputs": [],
   "source": [
    "y_baseRF = base_RF.predict(x_test_E)"
   ]
  },
  {
   "cell_type": "code",
   "execution_count": null,
   "metadata": {},
   "outputs": [],
   "source": [
    "r2_base_RF = r2_score(y_test_E, y_baseRF)\n",
    "\n",
    "MAE_base_RF = median_absolute_error(y_test_E, y_baseRF)\n",
    "\n",
    "MSE_base_RF = mean_squared_error(y_test_E, y_baseRF)\n",
    "\n",
    "RMSE_base_RF = np.sqrt(MSE_base_RF)"
   ]
  },
  {
   "cell_type": "code",
   "execution_count": null,
   "metadata": {},
   "outputs": [],
   "source": [
    "print(\"Hasil Evaluasi Data Testing \")\n",
    "print(\"Nilai MAE : \", MAE_base_RF)\n",
    "print(\"Nilai MSE : \", MSE_base_RF)\n",
    "print(\"Nilai RMSE : \", RMSE_base_RF)\n",
    "print(\"Nilai R2 : \", r2_base_RF)"
   ]
  },
  {
   "cell_type": "code",
   "execution_count": null,
   "metadata": {},
   "outputs": [],
   "source": []
  },
  {
   "cell_type": "code",
   "execution_count": null,
   "metadata": {},
   "outputs": [],
   "source": [
    "RF = RandomForestRegressor()"
   ]
  },
  {
   "cell_type": "code",
   "execution_count": null,
   "metadata": {},
   "outputs": [],
   "source": [
    "param_RF = {\"n_estimators\" : [100, 200, 500, 700, 1000],\n",
    "          \"max_depth\" : [None, 5, 7, 9, 20, 25],\n",
    "          \"min_samples_split\" : [2, 9, 15, 25],\n",
    "          \"min_samples_leaf\" : [1, 2, 5, 10],\n",
    "          \"max_features\" : [None, .8, .7, .6]}"
   ]
  },
  {
   "cell_type": "code",
   "execution_count": null,
   "metadata": {},
   "outputs": [],
   "source": [
    "model_RF = GridSearchCV(estimator=RF, param_grid=param_RF, cv = 4, n_jobs=-1, verbose=1)"
   ]
  },
  {
   "cell_type": "code",
   "execution_count": null,
   "metadata": {},
   "outputs": [],
   "source": [
    "model_RF.fit(x_train_E, y_train_E)"
   ]
  },
  {
   "cell_type": "code",
   "execution_count": null,
   "metadata": {},
   "outputs": [],
   "source": [
    "model_RF.best_params_"
   ]
  },
  {
   "cell_type": "code",
   "execution_count": null,
   "metadata": {},
   "outputs": [],
   "source": [
    "RF_tuned = model_RF.best_estimator_"
   ]
  },
  {
   "cell_type": "code",
   "execution_count": null,
   "metadata": {},
   "outputs": [],
   "source": [
    "y_tunedRF = RF_tuned.predict(x_test_E)"
   ]
  },
  {
   "cell_type": "code",
   "execution_count": null,
   "metadata": {},
   "outputs": [],
   "source": [
    "r2_tuned_RF = r2_score(y_test_E, y_tunedRF)\n",
    "\n",
    "MAE_tuned_RF = mean_absolute_error(y_test_E, y_tunedRF)\n",
    "\n",
    "MSE_tuned_RF = mean_squared_error(y_test_E, y_tunedRF)\n",
    "\n",
    "RMSE_tuned_RF = np.sqrt(MSE_tuned_RF)"
   ]
  },
  {
   "cell_type": "code",
   "execution_count": null,
   "metadata": {},
   "outputs": [],
   "source": [
    "print(\"Hasil Evaluasi Data Testing \")\n",
    "print(\"Nilai MAE : \", MAE_tuned_RF)\n",
    "print(\"Nilai MSE : \", MSE_tuned_RF)\n",
    "print(\"Nilai RMSE : \", RMSE_tuned_RF)\n",
    "print(\"Nilai R2 : \", r2_tuned_RF)"
   ]
  },
  {
   "cell_type": "code",
   "execution_count": null,
   "metadata": {},
   "outputs": [],
   "source": []
  },
  {
   "cell_type": "code",
   "execution_count": null,
   "metadata": {},
   "outputs": [],
   "source": [
    "joblib.dump(RF_tuned, 'Model_RF_PRICE')"
   ]
  },
  {
   "cell_type": "code",
   "execution_count": null,
   "metadata": {},
   "outputs": [],
   "source": []
  },
  {
   "cell_type": "code",
   "execution_count": null,
   "metadata": {},
   "outputs": [],
   "source": []
  },
  {
   "cell_type": "code",
   "execution_count": null,
   "metadata": {},
   "outputs": [],
   "source": [
    "joblib.dumb()"
   ]
  }
 ],
 "metadata": {
  "kernelspec": {
   "display_name": "Python 3",
   "language": "python",
   "name": "python3"
  },
  "language_info": {
   "codemirror_mode": {
    "name": "ipython",
    "version": 3
   },
   "file_extension": ".py",
   "mimetype": "text/x-python",
   "name": "python",
   "nbconvert_exporter": "python",
   "pygments_lexer": "ipython3",
   "version": "3.8.3"
  }
 },
 "nbformat": 4,
 "nbformat_minor": 4
}
